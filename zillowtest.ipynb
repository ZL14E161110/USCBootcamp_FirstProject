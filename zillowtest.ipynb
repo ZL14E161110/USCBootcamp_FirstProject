{
 "cells": [
  {
   "cell_type": "code",
   "execution_count": 60,
   "metadata": {
    "collapsed": true
   },
   "outputs": [],
   "source": [
    " # Dependencies\n",
    "import requests\n",
    "import urllib\n",
    "import xml.etree.ElementTree as ET\n",
    "from config import zws_id"
   ]
  },
  {
   "cell_type": "code",
   "execution_count": 91,
   "metadata": {},
   "outputs": [
    {
     "name": "stdout",
     "output_type": "stream",
     "text": [
      "516 Tennessee St\n"
     ]
    }
   ],
   "source": [
    "def reverse_geocode(latitude, longitude):\n",
    "    # Did the geocoding request comes from a device with a\n",
    "    # location sensor? Must be either true or false\n",
    "    sensor = 'true'\n",
    "\n",
    "    # Hit Google's reverse geocoder directly\n",
    "    # NOTE: I *think* their terms state that you're supposed to\n",
    "    # use google maps if you use their api for anything.\n",
    "    base = \"http://maps.googleapis.com/maps/api/geocode/json?\"\n",
    "    params = \"latlng={lat},{lon}&sensor={sen}\".format(\n",
    "        lat=latitude,\n",
    "        lon=longitude,\n",
    "        sen=sensor\n",
    "    )\n",
    "    url = \"{base}{params}\".format(base=base, params=params)\n",
    "    response = requests.get(url).json()\n",
    "    address = response['results'][0]['formatted_address']\n",
    "    return address\n",
    "\n",
    "    #latitude = 35.1330343\n",
    "    #longitude = -90.0625056\n",
    "\n",
    "property_address = reverse_geocode(35.1330343, -90.0625056).split(',')\n",
    "\n",
    "print(property_address[0])\n"
   ]
  },
  {
   "cell_type": "code",
   "execution_count": 92,
   "metadata": {},
   "outputs": [
    {
     "name": "stdout",
     "output_type": "stream",
     "text": [
      "http://www.zillow.com/webservice/GetSearchResults.htm?zws-id=X1-ZWz1gba2odrvgr_6plsv&address=516%20Tennessee%20St&citystatezip=%20Memphis%20TN%2038103\n"
     ]
    }
   ],
   "source": [
    "# Save config information.\n",
    "#url = http://www.zillow.com/webservice/GetRegionChildren.htm?zws-id=<ZWSID> &state=wa&city=seattle&childtype=neighborhood\n",
    "\n",
    "url = 'http://www.zillow.com/webservice/GetSearchResults.htm?zws-id='\n",
    "\n",
    "address = property_address[0]\n",
    "citystatezip = property_address[1] + property_address[2]\n",
    "\n",
    "\n",
    "query_url = url + zws_id + '&address=' + urllib.parse.quote(address) + '&citystatezip=' + urllib.parse.quote(citystatezip) \n",
    "print(query_url)\n",
    "\n",
    "#http://www.zillow.com/webservice/GetSearchResults.htm?zws-id=<ZWSID>&address=2114+Bigelow+Ave&citystatezip=Seattle%2C+WA"
   ]
  },
  {
   "cell_type": "code",
   "execution_count": 62,
   "metadata": {},
   "outputs": [
    {
     "name": "stdout",
     "output_type": "stream",
     "text": [
      "658253\n",
      "658280\n",
      "657970\n",
      "701591\n",
      "785532\n",
      "684436\n",
      "683037\n",
      "697633\n",
      "685051\n",
      "65826\n",
      "65828\n",
      "65796\n",
      "70160\n",
      "78554\n",
      "68444\n",
      "68304\n",
      "69764\n",
      "68506\n"
     ]
    }
   ],
   "source": [
    "root = ET.parse(urllib.request.urlopen(query_url)).getroot()\n",
    "\n",
    "for zestimate in root.iter('zestimate'):\n",
    "    print (zestimate[0].text)\n",
    "\n",
    "for valuation in root.iter('valuationRange'):\n",
    "    lowValuation = int(valuation[0].text)\n",
    "    highValuation = int(valuation[1].text)\n",
    "    valuationRange = highValuation - lowValuation\n",
    "    print(valuationRange)\n",
    "    #print(lowValuation)\n",
    "    #print(highValuation)\n",
    "\n",
    "# grab the following\n",
    "# address\n",
    "# price \n",
    "# valuation range"
   ]
  },
  {
   "cell_type": "code",
   "execution_count": null,
   "metadata": {
    "collapsed": true
   },
   "outputs": [],
   "source": []
  }
 ],
 "metadata": {
  "kernelspec": {
   "display_name": "Python 3",
   "language": "python",
   "name": "python3"
  },
  "language_info": {
   "codemirror_mode": {
    "name": "ipython",
    "version": 3
   },
   "file_extension": ".py",
   "mimetype": "text/x-python",
   "name": "python",
   "nbconvert_exporter": "python",
   "pygments_lexer": "ipython3",
   "version": "3.6.3"
  }
 },
 "nbformat": 4,
 "nbformat_minor": 2
}
