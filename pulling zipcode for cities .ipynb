{
 "cells": [
  {
   "cell_type": "code",
   "execution_count": null,
   "metadata": {
    "collapsed": true
   },
   "outputs": [],
   "source": [
    "# Dependencies\n",
    "import requests\n",
    "import json\n",
    "import pandas as pd\n",
    "\n",
    "# Google developer API key\n",
    "gkey='kH3Mgcqs0a33oWGZJ58mnsYP5zNVBZ1AdC95KeshCfOQC3aoZBS9g78HlldPcpMm'\n",
    "#'Y5mWxZzDk8YduErofbQKAFomOxUaS5F94zZ4jbO2BN11EK1Ns6kHY9YzqjEws5xf'\n",
    "\n",
    "LA_counties=pd.read_csv('LA_cities_Lat_lng_codes_data.csv',sep=',')\n"
   ]
  },
  {
   "cell_type": "code",
   "execution_count": null,
   "metadata": {},
   "outputs": [],
   "source": [
    "LA_counties.head()"
   ]
  },
  {
   "cell_type": "code",
   "execution_count": null,
   "metadata": {
    "collapsed": true
   },
   "outputs": [],
   "source": [
    "list_address=LA_counties[['address']]\n",
    "\n",
    "County=list_address['address']\n",
    "State='CA'"
   ]
  },
  {
   "cell_type": "code",
   "execution_count": null,
   "metadata": {},
   "outputs": [],
   "source": [
    "County"
   ]
  },
  {
   "cell_type": "code",
   "execution_count": null,
   "metadata": {},
   "outputs": [],
   "source": [
    "###Get the list of Counties to get zipcode\n",
    "list2=[]\n",
    "for i in range(len(County)):\n",
    "    \n",
    "    target=County[i]\n",
    "    t_state=State\n",
    "    target_url=\"https://www.zipcodeapi.com/rest/\"+gkey+\"/city-zips.json/\"+target+\"/\"+t_state\n",
    "    list2.append(target_url)"
   ]
  },
  {
   "cell_type": "code",
   "execution_count": null,
   "metadata": {},
   "outputs": [],
   "source": [
    "list2[0]"
   ]
  },
  {
   "cell_type": "code",
   "execution_count": null,
   "metadata": {},
   "outputs": [],
   "source": [
    "# Run a request to endpoint and convert result to json\n",
    "target=[]\n",
    "\n",
    "for i in range(len(County)):\n",
    "   \n",
    "    target_city=County[i]          \n",
    "    target_url = list2[i]\n",
    "    geo_data = requests.get(target_url).json()\n",
    "    print (geo_data)\n",
    "    R1=geo_data[\"zip_codes\"]\n",
    "    for j in range(len(R1)):\n",
    "        dic={}\n",
    "        dic['County']=target_city\n",
    "        dic['zip']=R1[j] \n",
    "        target.append(dic)"
   ]
  },
  {
   "cell_type": "code",
   "execution_count": null,
   "metadata": {},
   "outputs": [],
   "source": [
    "Table=pd.DataFrame(target)\n",
    "Table.to_csv('zipcodes_in_LA_counties.csv',index=None)"
   ]
  },
  {
   "cell_type": "code",
   "execution_count": null,
   "metadata": {
    "scrolled": false
   },
   "outputs": [],
   "source": [
    "Table"
   ]
  }
 ],
 "metadata": {
  "kernelspec": {
   "display_name": "Python 3",
   "language": "python",
   "name": "python3"
  },
  "language_info": {
   "codemirror_mode": {
    "name": "ipython",
    "version": 3
   },
   "file_extension": ".py",
   "mimetype": "text/x-python",
   "name": "python",
   "nbconvert_exporter": "python",
   "pygments_lexer": "ipython3",
   "version": "3.6.1"
  }
 },
 "nbformat": 4,
 "nbformat_minor": 2
}
