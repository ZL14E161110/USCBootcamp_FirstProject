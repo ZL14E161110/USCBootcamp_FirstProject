{
 "cells": [
  {
   "cell_type": "code",
   "execution_count": null,
   "metadata": {
    "collapsed": true
   },
   "outputs": [],
   "source": [
    "import matplotlib.pyplot as plt\n",
    "import pandas as pd\n",
    "import numpy as np\n",
    "import seaborn as sns, numpy as np\n",
    "from itertools import cycle, islice"
   ]
  },
  {
   "cell_type": "code",
   "execution_count": 10,
   "metadata": {},
   "outputs": [],
   "source": [
    "##Loading Data in\n",
    "import pandas as pd\n",
    "zillow=pd.read_csv('Combined_zillow_data.csv',sep=',', encoding='latin-1')"
   ]
  },
  {
   "cell_type": "code",
   "execution_count": 24,
   "metadata": {},
   "outputs": [],
   "source": [
    "zillow_subset=zillow['city_state_zip'].apply(lambda x: pd.Series(x.split(' ')))\n",
    "zillow_subset.columns=['x','City','State','zip','b','q']"
   ]
  },
  {
   "cell_type": "code",
   "execution_count": 26,
   "metadata": {},
   "outputs": [],
   "source": [
    "zillow_subset2=zillow_subset[['City','State','zip']]"
   ]
  },
  {
   "cell_type": "code",
   "execution_count": 28,
   "metadata": {},
   "outputs": [],
   "source": [
    "zillow=pd.concat([zillow,zillow_subset2],axis=1)"
   ]
  },
  {
   "cell_type": "code",
   "execution_count": 37,
   "metadata": {
    "scrolled": true
   },
   "outputs": [
    {
     "name": "stderr",
     "output_type": "stream",
     "text": [
      "C:\\Users\\lindsay.yan\\AppData\\Local\\Continuum\\Anaconda3\\lib\\site-packages\\ipykernel_launcher.py:2: SettingWithCopyWarning: \n",
      "A value is trying to be set on a copy of a slice from a DataFrame\n",
      "\n",
      "See the caveats in the documentation: http://pandas.pydata.org/pandas-docs/stable/indexing.html#indexing-view-versus-copy\n",
      "  \n"
     ]
    }
   ],
   "source": [
    "zillow3=zillow[:]\n",
    "zillow.City[zillow.City == '245'] = 'Long Beach' "
   ]
  },
  {
   "cell_type": "code",
   "execution_count": 119,
   "metadata": {},
   "outputs": [
    {
     "name": "stderr",
     "output_type": "stream",
     "text": [
      "C:\\Users\\lindsay.yan\\AppData\\Local\\Continuum\\Anaconda3\\lib\\site-packages\\ipykernel_launcher.py:3: SettingWithCopyWarning: \n",
      "A value is trying to be set on a copy of a slice from a DataFrame\n",
      "\n",
      "See the caveats in the documentation: http://pandas.pydata.org/pandas-docs/stable/indexing.html#indexing-view-versus-copy\n",
      "  This is separate from the ipykernel package so we can avoid doing imports until\n"
     ]
    }
   ],
   "source": [
    "#zillow[zillow.City.str.contains('South')==True]\n",
    "#zillow.City[zillow.City == 'South'] = 'Pasadena'\n",
    "zillow.City[zillow.City == 'Redondo'] = 'Torrance'"
   ]
  },
  {
   "cell_type": "code",
   "execution_count": 120,
   "metadata": {},
   "outputs": [],
   "source": [
    "zillow_gb=zillow.groupby('City').mean()"
   ]
  },
  {
   "cell_type": "code",
   "execution_count": 121,
   "metadata": {},
   "outputs": [],
   "source": [
    "zillow_gb.zestimate=zillow_gb.zestimate.astype('long')\n",
    "zillow_gb.valuation_high=zillow_gb.valuation_high.astype('long')\n",
    "zillow_gb.valuation_low=zillow_gb.valuation_low.astype('long')\n",
    "zillow_gb['tax assessment']=zillow_gb['tax assessment'].astype('long')\n",
    "zillow_gb['tax assess year']=zillow_gb['tax assess year'].astype('int')\n",
    "zillow_gb['lot size']=zillow_gb['lot size'].astype('long')\n",
    "zillow_gb['finished sq ft']=zillow_gb['finished sq ft'].astype('long')\n",
    "zillow_gb['year built']=zillow_gb['year built'].astype('long')\n",
    "zillow_gb.bedrooms=zillow_gb.bedrooms.astype('int')\n",
    "zillow_gb.bathrooms=zillow_gb.bathrooms.astype('int')"
   ]
  },
  {
   "cell_type": "code",
   "execution_count": 122,
   "metadata": {},
   "outputs": [],
   "source": [
    "zillow_gb_lat_lng=[['latitude','longitude']]"
   ]
  },
  {
   "cell_type": "code",
   "execution_count": 123,
   "metadata": {},
   "outputs": [],
   "source": [
    "del zillow_gb['zpid']\n",
    "del zillow_gb['latitude']\n",
    "del zillow_gb['longitude']\n",
    "del zillow_gb['message_code']"
   ]
  },
  {
   "cell_type": "code",
   "execution_count": 124,
   "metadata": {},
   "outputs": [
    {
     "data": {
      "text/html": [
       "<div>\n",
       "<style>\n",
       "    .dataframe thead tr:only-child th {\n",
       "        text-align: right;\n",
       "    }\n",
       "\n",
       "    .dataframe thead th {\n",
       "        text-align: left;\n",
       "    }\n",
       "\n",
       "    .dataframe tbody tr th {\n",
       "        vertical-align: top;\n",
       "    }\n",
       "</style>\n",
       "<table border=\"1\" class=\"dataframe\">\n",
       "  <thead>\n",
       "    <tr style=\"text-align: right;\">\n",
       "      <th></th>\n",
       "      <th>zestimate</th>\n",
       "      <th>valuation_high</th>\n",
       "      <th>valuation_low</th>\n",
       "      <th>tax assessment</th>\n",
       "      <th>tax assess year</th>\n",
       "      <th>year built</th>\n",
       "      <th>lot size</th>\n",
       "      <th>finished sq ft</th>\n",
       "      <th>bedrooms</th>\n",
       "      <th>bathrooms</th>\n",
       "      <th>PP_lot</th>\n",
       "    </tr>\n",
       "    <tr>\n",
       "      <th>City</th>\n",
       "      <th></th>\n",
       "      <th></th>\n",
       "      <th></th>\n",
       "      <th></th>\n",
       "      <th></th>\n",
       "      <th></th>\n",
       "      <th></th>\n",
       "      <th></th>\n",
       "      <th></th>\n",
       "      <th></th>\n",
       "      <th></th>\n",
       "    </tr>\n",
       "  </thead>\n",
       "  <tbody>\n",
       "    <tr>\n",
       "      <th>Burbank</th>\n",
       "      <td>1125583</td>\n",
       "      <td>1189356</td>\n",
       "      <td>1060698</td>\n",
       "      <td>552952</td>\n",
       "      <td>2017</td>\n",
       "      <td>1957</td>\n",
       "      <td>39165</td>\n",
       "      <td>2134</td>\n",
       "      <td>3</td>\n",
       "      <td>2</td>\n",
       "      <td>28</td>\n",
       "    </tr>\n",
       "    <tr>\n",
       "      <th>Glendale</th>\n",
       "      <td>1137447</td>\n",
       "      <td>1211146</td>\n",
       "      <td>1063506</td>\n",
       "      <td>566964</td>\n",
       "      <td>2017</td>\n",
       "      <td>1946</td>\n",
       "      <td>12030</td>\n",
       "      <td>2093</td>\n",
       "      <td>3</td>\n",
       "      <td>2</td>\n",
       "      <td>94</td>\n",
       "    </tr>\n",
       "    <tr>\n",
       "      <th>Inglewood</th>\n",
       "      <td>717422</td>\n",
       "      <td>798782</td>\n",
       "      <td>667456</td>\n",
       "      <td>280203</td>\n",
       "      <td>2017</td>\n",
       "      <td>1949</td>\n",
       "      <td>12584</td>\n",
       "      <td>1964</td>\n",
       "      <td>3</td>\n",
       "      <td>2</td>\n",
       "      <td>57</td>\n",
       "    </tr>\n",
       "    <tr>\n",
       "      <th>Lancaster</th>\n",
       "      <td>308502</td>\n",
       "      <td>353743</td>\n",
       "      <td>276574</td>\n",
       "      <td>208396</td>\n",
       "      <td>2017</td>\n",
       "      <td>1955</td>\n",
       "      <td>101748</td>\n",
       "      <td>1967</td>\n",
       "      <td>3</td>\n",
       "      <td>2</td>\n",
       "      <td>3</td>\n",
       "    </tr>\n",
       "    <tr>\n",
       "      <th>Long Beach</th>\n",
       "      <td>635511</td>\n",
       "      <td>679461</td>\n",
       "      <td>594351</td>\n",
       "      <td>357056</td>\n",
       "      <td>2017</td>\n",
       "      <td>1942</td>\n",
       "      <td>7509</td>\n",
       "      <td>1703</td>\n",
       "      <td>3</td>\n",
       "      <td>2</td>\n",
       "      <td>84</td>\n",
       "    </tr>\n",
       "    <tr>\n",
       "      <th>Los Angeles</th>\n",
       "      <td>770387</td>\n",
       "      <td>826419</td>\n",
       "      <td>721323</td>\n",
       "      <td>264671</td>\n",
       "      <td>2017</td>\n",
       "      <td>1929</td>\n",
       "      <td>14589</td>\n",
       "      <td>1808</td>\n",
       "      <td>3</td>\n",
       "      <td>2</td>\n",
       "      <td>52</td>\n",
       "    </tr>\n",
       "    <tr>\n",
       "      <th>Palmdale</th>\n",
       "      <td>332900</td>\n",
       "      <td>351534</td>\n",
       "      <td>314708</td>\n",
       "      <td>231949</td>\n",
       "      <td>2017</td>\n",
       "      <td>1983</td>\n",
       "      <td>18357</td>\n",
       "      <td>1940</td>\n",
       "      <td>3</td>\n",
       "      <td>2</td>\n",
       "      <td>18</td>\n",
       "    </tr>\n",
       "    <tr>\n",
       "      <th>Pasadena</th>\n",
       "      <td>1779256</td>\n",
       "      <td>1903052</td>\n",
       "      <td>1652609</td>\n",
       "      <td>773550</td>\n",
       "      <td>2017</td>\n",
       "      <td>1944</td>\n",
       "      <td>24416</td>\n",
       "      <td>5378</td>\n",
       "      <td>3</td>\n",
       "      <td>3</td>\n",
       "      <td>72</td>\n",
       "    </tr>\n",
       "    <tr>\n",
       "      <th>Santa Clarita</th>\n",
       "      <td>759555</td>\n",
       "      <td>806203</td>\n",
       "      <td>712300</td>\n",
       "      <td>548975</td>\n",
       "      <td>2017</td>\n",
       "      <td>1980</td>\n",
       "      <td>35783</td>\n",
       "      <td>2401</td>\n",
       "      <td>3</td>\n",
       "      <td>2</td>\n",
       "      <td>21</td>\n",
       "    </tr>\n",
       "    <tr>\n",
       "      <th>Torrance</th>\n",
       "      <td>898269</td>\n",
       "      <td>948236</td>\n",
       "      <td>847996</td>\n",
       "      <td>431725</td>\n",
       "      <td>2017</td>\n",
       "      <td>1961</td>\n",
       "      <td>18249</td>\n",
       "      <td>1900</td>\n",
       "      <td>3</td>\n",
       "      <td>2</td>\n",
       "      <td>49</td>\n",
       "    </tr>\n",
       "  </tbody>\n",
       "</table>\n",
       "</div>"
      ],
      "text/plain": [
       "               zestimate  valuation_high  valuation_low  tax assessment  \\\n",
       "City                                                                      \n",
       "Burbank          1125583         1189356        1060698          552952   \n",
       "Glendale         1137447         1211146        1063506          566964   \n",
       "Inglewood         717422          798782         667456          280203   \n",
       "Lancaster         308502          353743         276574          208396   \n",
       "Long Beach        635511          679461         594351          357056   \n",
       "Los Angeles       770387          826419         721323          264671   \n",
       "Palmdale          332900          351534         314708          231949   \n",
       "Pasadena         1779256         1903052        1652609          773550   \n",
       "Santa Clarita     759555          806203         712300          548975   \n",
       "Torrance          898269          948236         847996          431725   \n",
       "\n",
       "               tax assess year  year built  lot size  finished sq ft  \\\n",
       "City                                                                   \n",
       "Burbank                   2017        1957     39165            2134   \n",
       "Glendale                  2017        1946     12030            2093   \n",
       "Inglewood                 2017        1949     12584            1964   \n",
       "Lancaster                 2017        1955    101748            1967   \n",
       "Long Beach                2017        1942      7509            1703   \n",
       "Los Angeles               2017        1929     14589            1808   \n",
       "Palmdale                  2017        1983     18357            1940   \n",
       "Pasadena                  2017        1944     24416            5378   \n",
       "Santa Clarita             2017        1980     35783            2401   \n",
       "Torrance                  2017        1961     18249            1900   \n",
       "\n",
       "               bedrooms  bathrooms  PP_lot  \n",
       "City                                        \n",
       "Burbank               3          2      28  \n",
       "Glendale              3          2      94  \n",
       "Inglewood             3          2      57  \n",
       "Lancaster             3          2       3  \n",
       "Long Beach            3          2      84  \n",
       "Los Angeles           3          2      52  \n",
       "Palmdale              3          2      18  \n",
       "Pasadena              3          3      72  \n",
       "Santa Clarita         3          2      21  \n",
       "Torrance              3          2      49  "
      ]
     },
     "execution_count": 124,
     "metadata": {},
     "output_type": "execute_result"
    }
   ],
   "source": [
    "zillow_gb['PP_lot']=zillow_gb.zestimate/zillow_gb['lot size']\n",
    "zillow_gb.PP_lot=zillow_gb.PP_lot.astype('int')\n",
    "zillow_gb"
   ]
  },
  {
   "cell_type": "code",
   "execution_count": 125,
   "metadata": {
    "scrolled": true
   },
   "outputs": [
    {
     "data": {
      "text/html": [
       "<div>\n",
       "<style>\n",
       "    .dataframe thead tr:only-child th {\n",
       "        text-align: right;\n",
       "    }\n",
       "\n",
       "    .dataframe thead th {\n",
       "        text-align: left;\n",
       "    }\n",
       "\n",
       "    .dataframe tbody tr th {\n",
       "        vertical-align: top;\n",
       "    }\n",
       "</style>\n",
       "<table border=\"1\" class=\"dataframe\">\n",
       "  <thead>\n",
       "    <tr style=\"text-align: right;\">\n",
       "      <th></th>\n",
       "      <th>zestimate</th>\n",
       "      <th>valuation_high</th>\n",
       "      <th>valuation_low</th>\n",
       "      <th>tax assessment</th>\n",
       "      <th>tax assess year</th>\n",
       "      <th>year built</th>\n",
       "      <th>lot size</th>\n",
       "      <th>finished sq ft</th>\n",
       "      <th>bedrooms</th>\n",
       "      <th>bathrooms</th>\n",
       "      <th>PP_lot</th>\n",
       "      <th>PP_sqft</th>\n",
       "    </tr>\n",
       "    <tr>\n",
       "      <th>City</th>\n",
       "      <th></th>\n",
       "      <th></th>\n",
       "      <th></th>\n",
       "      <th></th>\n",
       "      <th></th>\n",
       "      <th></th>\n",
       "      <th></th>\n",
       "      <th></th>\n",
       "      <th></th>\n",
       "      <th></th>\n",
       "      <th></th>\n",
       "      <th></th>\n",
       "    </tr>\n",
       "  </thead>\n",
       "  <tbody>\n",
       "    <tr>\n",
       "      <th>Burbank</th>\n",
       "      <td>1125583</td>\n",
       "      <td>1189356</td>\n",
       "      <td>1060698</td>\n",
       "      <td>552952</td>\n",
       "      <td>2017</td>\n",
       "      <td>1957</td>\n",
       "      <td>39165</td>\n",
       "      <td>2134</td>\n",
       "      <td>3</td>\n",
       "      <td>2</td>\n",
       "      <td>28</td>\n",
       "      <td>527</td>\n",
       "    </tr>\n",
       "    <tr>\n",
       "      <th>Glendale</th>\n",
       "      <td>1137447</td>\n",
       "      <td>1211146</td>\n",
       "      <td>1063506</td>\n",
       "      <td>566964</td>\n",
       "      <td>2017</td>\n",
       "      <td>1946</td>\n",
       "      <td>12030</td>\n",
       "      <td>2093</td>\n",
       "      <td>3</td>\n",
       "      <td>2</td>\n",
       "      <td>94</td>\n",
       "      <td>543</td>\n",
       "    </tr>\n",
       "    <tr>\n",
       "      <th>Inglewood</th>\n",
       "      <td>717422</td>\n",
       "      <td>798782</td>\n",
       "      <td>667456</td>\n",
       "      <td>280203</td>\n",
       "      <td>2017</td>\n",
       "      <td>1949</td>\n",
       "      <td>12584</td>\n",
       "      <td>1964</td>\n",
       "      <td>3</td>\n",
       "      <td>2</td>\n",
       "      <td>57</td>\n",
       "      <td>365</td>\n",
       "    </tr>\n",
       "    <tr>\n",
       "      <th>Lancaster</th>\n",
       "      <td>308502</td>\n",
       "      <td>353743</td>\n",
       "      <td>276574</td>\n",
       "      <td>208396</td>\n",
       "      <td>2017</td>\n",
       "      <td>1955</td>\n",
       "      <td>101748</td>\n",
       "      <td>1967</td>\n",
       "      <td>3</td>\n",
       "      <td>2</td>\n",
       "      <td>3</td>\n",
       "      <td>156</td>\n",
       "    </tr>\n",
       "    <tr>\n",
       "      <th>Long Beach</th>\n",
       "      <td>635511</td>\n",
       "      <td>679461</td>\n",
       "      <td>594351</td>\n",
       "      <td>357056</td>\n",
       "      <td>2017</td>\n",
       "      <td>1942</td>\n",
       "      <td>7509</td>\n",
       "      <td>1703</td>\n",
       "      <td>3</td>\n",
       "      <td>2</td>\n",
       "      <td>84</td>\n",
       "      <td>373</td>\n",
       "    </tr>\n",
       "    <tr>\n",
       "      <th>Los Angeles</th>\n",
       "      <td>770387</td>\n",
       "      <td>826419</td>\n",
       "      <td>721323</td>\n",
       "      <td>264671</td>\n",
       "      <td>2017</td>\n",
       "      <td>1929</td>\n",
       "      <td>14589</td>\n",
       "      <td>1808</td>\n",
       "      <td>3</td>\n",
       "      <td>2</td>\n",
       "      <td>52</td>\n",
       "      <td>426</td>\n",
       "    </tr>\n",
       "    <tr>\n",
       "      <th>Palmdale</th>\n",
       "      <td>332900</td>\n",
       "      <td>351534</td>\n",
       "      <td>314708</td>\n",
       "      <td>231949</td>\n",
       "      <td>2017</td>\n",
       "      <td>1983</td>\n",
       "      <td>18357</td>\n",
       "      <td>1940</td>\n",
       "      <td>3</td>\n",
       "      <td>2</td>\n",
       "      <td>18</td>\n",
       "      <td>171</td>\n",
       "    </tr>\n",
       "    <tr>\n",
       "      <th>Pasadena</th>\n",
       "      <td>1779256</td>\n",
       "      <td>1903052</td>\n",
       "      <td>1652609</td>\n",
       "      <td>773550</td>\n",
       "      <td>2017</td>\n",
       "      <td>1944</td>\n",
       "      <td>24416</td>\n",
       "      <td>5378</td>\n",
       "      <td>3</td>\n",
       "      <td>3</td>\n",
       "      <td>72</td>\n",
       "      <td>330</td>\n",
       "    </tr>\n",
       "    <tr>\n",
       "      <th>Santa Clarita</th>\n",
       "      <td>759555</td>\n",
       "      <td>806203</td>\n",
       "      <td>712300</td>\n",
       "      <td>548975</td>\n",
       "      <td>2017</td>\n",
       "      <td>1980</td>\n",
       "      <td>35783</td>\n",
       "      <td>2401</td>\n",
       "      <td>3</td>\n",
       "      <td>2</td>\n",
       "      <td>21</td>\n",
       "      <td>316</td>\n",
       "    </tr>\n",
       "    <tr>\n",
       "      <th>Torrance</th>\n",
       "      <td>898269</td>\n",
       "      <td>948236</td>\n",
       "      <td>847996</td>\n",
       "      <td>431725</td>\n",
       "      <td>2017</td>\n",
       "      <td>1961</td>\n",
       "      <td>18249</td>\n",
       "      <td>1900</td>\n",
       "      <td>3</td>\n",
       "      <td>2</td>\n",
       "      <td>49</td>\n",
       "      <td>472</td>\n",
       "    </tr>\n",
       "  </tbody>\n",
       "</table>\n",
       "</div>"
      ],
      "text/plain": [
       "               zestimate  valuation_high  valuation_low  tax assessment  \\\n",
       "City                                                                      \n",
       "Burbank          1125583         1189356        1060698          552952   \n",
       "Glendale         1137447         1211146        1063506          566964   \n",
       "Inglewood         717422          798782         667456          280203   \n",
       "Lancaster         308502          353743         276574          208396   \n",
       "Long Beach        635511          679461         594351          357056   \n",
       "Los Angeles       770387          826419         721323          264671   \n",
       "Palmdale          332900          351534         314708          231949   \n",
       "Pasadena         1779256         1903052        1652609          773550   \n",
       "Santa Clarita     759555          806203         712300          548975   \n",
       "Torrance          898269          948236         847996          431725   \n",
       "\n",
       "               tax assess year  year built  lot size  finished sq ft  \\\n",
       "City                                                                   \n",
       "Burbank                   2017        1957     39165            2134   \n",
       "Glendale                  2017        1946     12030            2093   \n",
       "Inglewood                 2017        1949     12584            1964   \n",
       "Lancaster                 2017        1955    101748            1967   \n",
       "Long Beach                2017        1942      7509            1703   \n",
       "Los Angeles               2017        1929     14589            1808   \n",
       "Palmdale                  2017        1983     18357            1940   \n",
       "Pasadena                  2017        1944     24416            5378   \n",
       "Santa Clarita             2017        1980     35783            2401   \n",
       "Torrance                  2017        1961     18249            1900   \n",
       "\n",
       "               bedrooms  bathrooms  PP_lot  PP_sqft  \n",
       "City                                                 \n",
       "Burbank               3          2      28      527  \n",
       "Glendale              3          2      94      543  \n",
       "Inglewood             3          2      57      365  \n",
       "Lancaster             3          2       3      156  \n",
       "Long Beach            3          2      84      373  \n",
       "Los Angeles           3          2      52      426  \n",
       "Palmdale              3          2      18      171  \n",
       "Pasadena              3          3      72      330  \n",
       "Santa Clarita         3          2      21      316  \n",
       "Torrance              3          2      49      472  "
      ]
     },
     "execution_count": 125,
     "metadata": {},
     "output_type": "execute_result"
    }
   ],
   "source": [
    "zillow_gb['PP_sqft']=zillow_gb.zestimate/zillow_gb['finished sq ft']\n",
    "zillow_gb.PP_sqft=zillow_gb.PP_sqft.astype('int')\n",
    "zillow_gb"
   ]
  },
  {
   "cell_type": "code",
   "execution_count": 126,
   "metadata": {
    "scrolled": false
   },
   "outputs": [
    {
     "data": {
      "image/png": "[encoded data removed]",
      "text/plain": [
       "<matplotlib.figure.Figure at 0x21093c66978>"
      ]
     },
     "metadata": {},
     "output_type": "display_data"
    }
   ],
   "source": [
    "# group data by city and find the average housing growth for each cuty\n",
    "\n",
    "\n",
    "# set the plot x_axis, y_axis, title and label \n",
    "sns.set_style(\"whitegrid\")\n",
    "sns.barplot(x=zillow_gb.index, y=\"zestimate\", data=zillow_gb, palette=sns.color_palette(\"Set3\", 19))\n",
    "\n",
    "plt.xticks(rotation=90)\n",
    "plt.ylabel(\"Price, USD\")\n",
    "plt.title(\"Average Price Per City\")\n",
    "plt.show()\n",
    "\n",
    "# Save the figure\n",
    "#plt.savefig(\"../Clean_Data/Housing_Growth.png\")"
   ]
  },
  {
   "cell_type": "code",
   "execution_count": 127,
   "metadata": {},
   "outputs": [],
   "source": [
    "zillow_box=zillow[['City','zestimate']]"
   ]
  },
  {
   "cell_type": "code",
   "execution_count": 137,
   "metadata": {},
   "outputs": [],
   "source": [
    "Glendale=zillow_box[zillow_box['City']=='Glendale']     \n",
    "Burbank=zillow_box[zillow_box['City']=='Burbank'] \n",
    "Inglewood=zillow_box[zillow_box['City']=='Inglewood'] \n",
    "Lancaster=zillow_box[zillow_box['City']=='Lancaster'] \n",
    "Pasadena=zillow_box[zillow_box['City']=='Pasadena'] \n",
    "Long_Beach=zillow_box[zillow_box['City']=='Long Beach'] \n",
    "Los_Angeles=zillow_box[zillow_box['City']=='Los Angeles'] \n",
    "Palmdale=zillow_box[zillow_box['City']=='Palmdale'] \n",
    "Santa_Clarita=zillow_box[zillow_box['City']=='Santa Clarita'] \n",
    "Torrance=zillow_box[zillow_box['City']=='Torrance'] "
   ]
  },
  {
   "cell_type": "code",
   "execution_count": 139,
   "metadata": {
    "scrolled": true
   },
   "outputs": [],
   "source": [
    "Glendale=Glendale.sample(n=50)\n",
    "Burbank=Burbank.sample(n=50)\n",
    "Inglewood=Inglewood.sample(n=50)\n",
    "Lancaster=Lancaster.sample(n=50)\n",
    "Pasadena=Pasadena.sample(n=50)\n",
    "Long_Beach=Long_Beach.sample(n=50)\n",
    "Los_Angeles=Los_Angeles.sample(n=50)\n",
    "Palmdale=Palmdale.sample(n=50)\n",
    "Santa_Clarita=Santa_Clarita.sample(n=50)\n",
    "Torrance=Torrance.sample(n=50)"
   ]
  },
  {
   "cell_type": "code",
   "execution_count": 146,
   "metadata": {},
   "outputs": [],
   "source": [
    "Glendale.columns=['city','Glendal']\n",
    "Burbank.columns=['city','Burbank']\n",
    "Inglewood.columns=['city','Inglewood']\n",
    "Lancaster.columns=['city','Lancaster']\n",
    "Pasadena.columns=['city','Pasadena']\n",
    "Long_Beach.columns=['city','Long_Beach']\n",
    "Los_Angeles.columns=['city','Los_Angeles']\n",
    "Palmdale.columns=['city','Palmdale']\n",
    "Santa_Clarita.columns=['city','Santa_Clarita']\n",
    "Torrance.columns=['city','Torrance']"
   ]
  },
  {
   "cell_type": "code",
   "execution_count": 150,
   "metadata": {
    "collapsed": true
   },
   "outputs": [],
   "source": [
    "Glendale=Glendale.reset_index()\n",
    "Burbank=Burbank.reset_index()\n",
    "Inglewood=Inglewood.reset_index()\n",
    "Lancaster=Lancaster.reset_index()\n",
    "Pasadena=Pasadena.reset_index()\n",
    "Long_Beach=Long_Beach.reset_index()\n",
    "Los_Angeles=Los_Angeles.reset_index()\n",
    "Palmdale=Palmdale.reset_index()\n",
    "Santa_Clarita=Santa_Clarita.reset_index()\n",
    "Torrance=Torrance.reset_index()"
   ]
  },
  {
   "cell_type": "code",
   "execution_count": 152,
   "metadata": {},
   "outputs": [],
   "source": [
    "df=pd.concat([Glendale.Glendal\n",
    "           ,Burbank.Burbank\n",
    "           ,Inglewood.Inglewood\n",
    "           ,Lancaster.Lancaster\n",
    "           ,Pasadena.Pasadena\n",
    "           ,Long_Beach.Long_Beach\n",
    "           ,Los_Angeles.Los_Angeles\n",
    "           ,Palmdale.Palmdale\n",
    "           ,Santa_Clarita.Santa_Clarita\n",
    "           ,Torrance.Torrance],axis=1)"
   ]
  },
  {
   "cell_type": "code",
   "execution_count": 156,
   "metadata": {},
   "outputs": [
    {
     "data": {
      "image/png": "[encoded data removed]",
      "text/plain": [
       "<matplotlib.figure.Figure at 0x21093f6fa58>"
      ]
     },
     "metadata": {},
     "output_type": "display_data"
    }
   ],
   "source": [
    "import seaborn as sns\n",
    "from matplotlib import pyplot as plt\n",
    "plt.figure(figsize=(10,6))\n",
    "sns.boxplot(data=df)\n",
    "plt.ylim(0,5000000)\n",
    "plt.ylabel(\"Price, USD\")\n",
    "plt.title('House Price Variance')\n",
    "plt.xticks(rotation=90)\n",
    "plt.show()"
   ]
  },
  {
   "cell_type": "code",
   "execution_count": 159,
   "metadata": {},
   "outputs": [
    {
     "data": {
      "image/png": "[encoded data removed]",
      "text/plain": [
       "<matplotlib.figure.Figure at 0x21093b05080>"
      ]
     },
     "metadata": {},
     "output_type": "display_data"
    }
   ],
   "source": [
    "# group data by city and find the average housing growth for each cuty\n",
    "\n",
    "\n",
    "# set the plot x_axis, y_axis, title and label \n",
    "sns.set_style(\"whitegrid\")\n",
    "sns.barplot(x=zillow_gb.index, y=\"PP_sqft\", data=zillow_gb, palette=sns.color_palette(\"Set3\", 19))\n",
    "\n",
    "plt.xticks(rotation=90)\n",
    "plt.ylabel(\"Price, USD\")\n",
    "plt.title(\"Average Price Per Squarefeet Per City\")\n",
    "plt.show()"
   ]
  },
  {
   "cell_type": "code",
   "execution_count": 161,
   "metadata": {
    "scrolled": false
   },
   "outputs": [
    {
     "data": {
      "image/png": "[encoded data removed]",
      "text/plain": [
       "<matplotlib.figure.Figure at 0x21093b757f0>"
      ]
     },
     "metadata": {},
     "output_type": "display_data"
    }
   ],
   "source": [
    "# set the plot x_axis, y_axis, title and label \n",
    "sns.set_style(\"whitegrid\")\n",
    "sns.barplot(x=zillow_gb.index, y=\"PP_lot\", data=zillow_gb, palette=sns.color_palette(\"Set3\", 19))\n",
    "\n",
    "plt.xticks(rotation=90)\n",
    "plt.ylabel(\"Price, USD\")\n",
    "plt.title(\"Average Price Per lot Per City\")\n",
    "plt.show()"
   ]
  },
  {
   "cell_type": "code",
   "execution_count": 165,
   "metadata": {},
   "outputs": [
    {
     "data": {
      "image/png": "[encoded data removed]",
      "text/plain": [
       "<matplotlib.figure.Figure at 0x21093bb53c8>"
      ]
     },
     "metadata": {},
     "output_type": "display_data"
    }
   ],
   "source": [
    "# set the plot x_axis, y_axis, title and label \n",
    "sns.set_style(\"whitegrid\")\n",
    "sns.barplot(x=zillow_gb.index, y=\"year built\", data=zillow_gb, palette=sns.color_palette(\"Set3\", 19))\n",
    "\n",
    "plt.xticks(rotation=90)\n",
    "plt.ylim(1920,1990)\n",
    "plt.ylabel(\"Price, USD\")\n",
    "plt.title(\"Average year built Per City\")\n",
    "plt.show()"
   ]
  },
  {
   "cell_type": "code",
   "execution_count": null,
   "metadata": {
    "collapsed": true
   },
   "outputs": [],
   "source": []
  }
 ],
 "metadata": {
  "kernelspec": {
   "display_name": "Python 3",
   "language": "python",
   "name": "python3"
  },
  "language_info": {
   "codemirror_mode": {
    "name": "ipython",
    "version": 3
   },
   "file_extension": ".py",
   "mimetype": "text/x-python",
   "name": "python",
   "nbconvert_exporter": "python",
   "pygments_lexer": "ipython3",
   "version": "3.6.1"
  }
 },
 "nbformat": 4,
 "nbformat_minor": 2
}
