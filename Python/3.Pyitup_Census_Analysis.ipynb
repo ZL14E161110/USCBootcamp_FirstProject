{
 "cells": [
  {
   "cell_type": "code",
   "execution_count": null,
   "metadata": {},
   "outputs": [],
   "source": [
    "#Using Census API to obtain information of interest to choose a city when buying a property\n",
    "# code by Sue Del Carpio Bellido\n",
    "\n",
    "# Dependencies\n",
    "import numpy as np\n",
    "import pandas as pd\n",
    "import matplotlib.pyplot as plt\n",
    "import requests\n",
    "# please download census wrapper from https://pypi.python.org/pypi/census\n",
    "from census import Census\n",
    "import seaborn as sns\n",
    "\n",
    "# Census API Key\n",
    "from config import api_key\n",
    "\n",
    "c = Census(api_key, year=2016)"
   ]
  },
  {
   "cell_type": "code",
   "execution_count": null,
   "metadata": {
    "collapsed": true
   },
   "outputs": [],
   "source": [
    "zipcodes_df = pd.read_csv(\"../Raw_Data/1-2.zipcodes_in_LA_counties.csv\")\n",
    "zipcodes_df = zipcodes_df.rename(columns={\"zip\": \"Zipcode\",\"County\":\"City\"})\n",
    "\n",
    "zipcodes_df.head()"
   ]
  },
  {
   "cell_type": "code",
   "execution_count": null,
   "metadata": {
    "collapsed": true
   },
   "outputs": [],
   "source": [
    "#Filter only selected cities for analysis\n",
    "selected_cities=['Alhambra','Burbank','Inglewood','Glendale','Long Beach','Los Angeles','Palmdale','Pasadena','Santa Clarita','Torrance']\n",
    "zipcodes_df=zipcodes_df[zipcodes_df['City'].isin(selected_cities)]\n",
    "zipcodes_df"
   ]
  },
  {
   "cell_type": "code",
   "execution_count": null,
   "metadata": {
    "collapsed": true
   },
   "outputs": [],
   "source": [
    "##Due to Timeout error, we need to call the API 3 times to obtain all information required\n",
    "# Call Time # 1\n",
    "\n",
    "census_data = c.acs5.get((\"NAME\", \"B19013_001E\", \"B01003_001E\", \"B01002_001E\",\"B19301_001E\",\"B17001_002E\",\n",
    "                            \"B23025_004E\",\"B23025_002E\",\"B23025_005E\"),{'for': 'zip code tabulation area:*'})\n",
    "\n",
    "census_pd = pd.DataFrame(census_data)\n",
    "\n",
    "census_pd = census_pd.rename(columns={\"B01003_001E\": \"Population\",\n",
    "                                      \"B01002_001E\": \"Median Age\",\n",
    "                                      \"B19013_001E\": \"Household Income\",\n",
    "                                      \"B19301_001E\": \"Per Capita Income\",\n",
    "                                      \"B17001_002E\": \"Poverty Count\",\n",
    "                                      \"B23025_004E\": \"employment_employed\",\n",
    "                                      \"B23025_002E\": \"Labor_force\",\n",
    "                                      \"B23025_005E\": \"employment_unemployed\",\n",
    "                                      \"NAME\": \"Name\", \"zip code tabulation area\": \"Zipcode\"})\n",
    "\n",
    "# Add in Poverty Rate (Poverty Count / Population)\n",
    "census_pd[\"Poverty Rate\"] = 100 * \\\n",
    "    census_pd[\"Poverty Count\"].astype(\n",
    "        int) / census_pd[\"Population\"].astype(int)\n",
    "\n",
    "# Add in Poverty Rate (Poverty Count / Population)\n",
    "census_pd[\"Employment Rate\"] = 100 * \\\n",
    "    census_pd[\"employment_employed\"].astype(\n",
    "        int) / census_pd[\"Labor_force\"].astype(int)\n",
    "    \n",
    "# Add in Poverty Rate (Poverty Count / Population)\n",
    "census_pd[\"Unemployment Rate\"] = 100 * \\\n",
    "    census_pd[\"employment_unemployed\"].astype(\n",
    "        int) / census_pd[\"Labor_force\"].astype(int)\n",
    "    \n",
    "#Final DataFrame\n",
    "census_pd = census_pd[[\"Zipcode\", \"Population\", \"Median Age\", \"Household Income\",\n",
    "                       \"Per Capita Income\", \"Poverty Count\", \"Poverty Rate\",\"employment_employed\",\"Labor_force\",\"employment_unemployed\",\n",
    "                      \"Employment Rate\", \"Unemployment Rate\"]]\n",
    "\n",
    "# Visualize\n",
    "print(len(census_pd))\n",
    "census_pd.head()"
   ]
  },
  {
   "cell_type": "code",
   "execution_count": null,
   "metadata": {
    "collapsed": true
   },
   "outputs": [],
   "source": [
    "##Due to Timeout error, we need to call the API 3 times to obtain all information required\n",
    "# Call Time # 2\n",
    "census_data_2 = c.acs5.get((\"NAME\", \"B01002_002E\", \"B01002_003E\", \"B08136_011E\",\"B15003_002E\",\"B01001_002E\",\n",
    "                            \"B01001_026E\"),{'for': 'zip code tabulation area:*'})\n",
    "# Convert to DataFrame\n",
    "census_pd_2 = pd.DataFrame(census_data_2)\n",
    "\n",
    "# Column Reordering\n",
    "census_pd_2 = census_pd_2.rename(columns={\"B01002_002E\": \"Median_male_age\",\n",
    "                                      \"B01002_003E\": \"Median_female_age\",\n",
    "                                      \"B08136_011E\": \"Walkable_time_min\", \n",
    "                                      \"B15003_002E\": \"Education_none\",\n",
    "                                      \"B01001_002E\": \"Male_population\",\n",
    "                                      \"B01001_026E\": \"Female_population\",\n",
    "                                      \"NAME\": \"Name\", \"zip code tabulation area\": \"Zipcode\"})\n",
    "\n",
    "#Final DataFrame\n",
    "census_pd_2 = census_pd_2[[\"Zipcode\", \"Median_male_age\", \"Median_female_age\", \"Walkable_time_min\",\"Education_none\", \n",
    "                           \"Male_population\", \"Female_population\"]]\n",
    "\n",
    "# Visualize\n",
    "print(len(census_pd_2))\n",
    "census_pd_2.head()"
   ]
  },
  {
   "cell_type": "code",
   "execution_count": null,
   "metadata": {
    "collapsed": true
   },
   "outputs": [],
   "source": [
    "##Due to Timeout error, we need to call the API 3 times to obtain all information required\n",
    "# Call Time # 3\n",
    "census_data_3 = c.acs5.get((\"NAME\", \"B14002_001E\", \"B16003_002E\", \"B16003_008E\",\"B19083_001E\"),{'for': 'zip code tabulation area:*'})\n",
    "\n",
    "# Convert to DataFrame\n",
    "census_pd_3 = pd.DataFrame(census_data_3)\n",
    "\n",
    "# Column Reordering\n",
    "census_pd_3 = census_pd_3.rename(columns={\"B14002_001E\": \"Students_population\",\n",
    "                                       \"B16003_002E\": \"Population_from_5_17\",\n",
    "                                       \"B16003_008E\": \"Population_18_over\",\n",
    "                                       \"B19083_001E\": \"Gini_index\",\n",
    "                                      \"NAME\": \"Name\", \"zip code tabulation area\": \"Zipcode\"})\n",
    "    \n",
    "#Final DataFrame\n",
    "census_pd_3 = census_pd_3[[\"Zipcode\", \"Students_population\", \"Population_from_5_17\", \"Population_18_over\",\"Gini_index\"]]\n",
    "                        \n",
    "# Visualize\n",
    "print(len(census_pd_3))\n",
    "census_pd_3.head()"
   ]
  },
  {
   "cell_type": "code",
   "execution_count": null,
   "metadata": {
    "collapsed": true
   },
   "outputs": [],
   "source": [
    "# Merge two dataframes using an inner join\n",
    "merge_table_1 = pd.merge(census_pd, census_pd_2, on=\"Zipcode\")\n",
    "merge_table_1.head()\n",
    "print(len(merge_table_1))"
   ]
  },
  {
   "cell_type": "code",
   "execution_count": null,
   "metadata": {
    "collapsed": true,
    "scrolled": true
   },
   "outputs": [],
   "source": [
    "# Merge two dataframes using an inner join\n",
    "merge_table_total = pd.merge(merge_table_1, census_pd_3, on=\"Zipcode\")\n",
    "merge_table_total.head()\n",
    "#print(len(merge_table_total))"
   ]
  },
  {
   "cell_type": "code",
   "execution_count": null,
   "metadata": {
    "collapsed": true
   },
   "outputs": [],
   "source": [
    "#Export clean data\n",
    "merge_table_total.to_csv(\"../Clean_Data/3.total_census.csv\", encoding=\"utf-8\", index=False, header=True)"
   ]
  },
  {
   "cell_type": "markdown",
   "metadata": {},
   "source": [
    "# Cleaning Data"
   ]
  },
  {
   "cell_type": "code",
   "execution_count": null,
   "metadata": {
    "collapsed": true
   },
   "outputs": [],
   "source": [
    "#Get only Zipcodes from LA selected cities\n",
    "import numpy as np\n",
    "merge_table_total['Zipcode']=merge_table_total['Zipcode'].astype(np.int64)\n",
    "\n",
    "los_angeles_census_df = pd.merge(merge_table_total, zipcodes_df, on=\"Zipcode\")\n",
    "los_angeles_census_df.to_csv(\"../Clean_data/3.los_angeles_census.csv\", encoding=\"utf-8\", index=False, header=True)"
   ]
  },
  {
   "cell_type": "code",
   "execution_count": null,
   "metadata": {
    "collapsed": true
   },
   "outputs": [],
   "source": [
    "los_angeles_census_df.columns"
   ]
  },
  {
   "cell_type": "code",
   "execution_count": null,
   "metadata": {
    "collapsed": true
   },
   "outputs": [],
   "source": [
    "# Dropping results with population=0\n",
    "population_greater_0 = los_angeles_census_df[\"Population\"]>0\n",
    "los_angeles_census_df=los_angeles_census_df[population_greater_0]"
   ]
  },
  {
   "cell_type": "code",
   "execution_count": null,
   "metadata": {
    "collapsed": true
   },
   "outputs": [],
   "source": [
    "##We found default value in census is \"-666666666\"\n",
    "##We are going to filter this data for each analysis\n",
    "\n",
    "\n",
    "#Group by City, aggregation average by Gini index\n",
    "gini_index_value = los_angeles_census_df[\"Gini_index\"]>-666666666\n",
    "gini_index_df = los_angeles_census_df[gini_index_value]\n",
    "\n",
    "gini_index_df = gini_index_df.groupby([\"City\"])['Gini_index'].agg(['mean']).sort_index().reset_index()\n",
    "gini_index_df= gini_index_df.rename(columns={\"mean\":\"Gini_index_avg\"})\n",
    "\n",
    "gini_index_df=gini_index_df.sort_values(by='Gini_index_avg', ascending=False)\n",
    "gini_index_df"
   ]
  },
  {
   "cell_type": "code",
   "execution_count": null,
   "metadata": {
    "collapsed": true
   },
   "outputs": [],
   "source": [
    "#Plot with seaborn, make additional changes with matplotlib\n",
    "#Palette color reflects values from negative to positive for better understand\n",
    "\n",
    "sns.set_style(\"whitegrid\")\n",
    "plt.figure(figsize=(15,7))\n",
    "sns.barplot(x=\"City\", y=\"Gini_index_avg\", data=gini_index_df, palette=sns.color_palette(\"RdYlGn\", 10))\n",
    "\n",
    "plt.xlabel(\"\")\n",
    "plt.ylabel(\"Gini index\")\n",
    "plt.title(\"Household income distribution (Gini Coefficient)\")\n",
    "\n",
    "# Save the figure\n",
    "plt.savefig(\"../Clean_Data/3.Gini_index_by_City.png\")\n",
    "plt.show()"
   ]
  },
  {
   "cell_type": "markdown",
   "metadata": {},
   "source": [
    "# UNEMPLOYMENT AND POVERTY ANALYSIS "
   ]
  },
  {
   "cell_type": "code",
   "execution_count": null,
   "metadata": {
    "collapsed": true
   },
   "outputs": [],
   "source": [
    "##Clean and preparing data\n",
    "unemployment_value = los_angeles_census_df[\"Unemployment Rate\"]>-666666666\n",
    "poverty_value = los_angeles_census_df[\"Poverty Rate\"]>-666666666\n",
    "\n",
    "poverty_unemployment_df = los_angeles_census_df[unemployment_value & poverty_value]\n",
    "\n",
    "poverty_unemployment_df = poverty_unemployment_df.groupby([\"City\"])[['Unemployment Rate','Poverty Rate']].agg(['mean']).sort_index().reset_index()\n",
    "\n",
    "poverty_unemployment_df.columns = poverty_unemployment_df.columns.droplevel(1)\n",
    "\n",
    "poverty_unemployment_df= poverty_unemployment_df.rename(columns={\"Unemployment Rate\":\"Unemployment_Rate\",\"Poverty Rate\":\"Poverty_Rate\"})\n",
    "\n",
    "poverty_unemployment_df\n"
   ]
  },
  {
   "cell_type": "code",
   "execution_count": null,
   "metadata": {
    "collapsed": true
   },
   "outputs": [],
   "source": [
    "#Plot unemployment rate and poverty rate in two columns to compare results\n",
    "\n",
    "sns.set()\n",
    "poverty_unemployment_df = poverty_unemployment_df.set_index('City')\n",
    "\n",
    "fig = plt.figure(figsize=(15,8)) # Create matplotlib figure\n",
    "\n",
    "ax = fig.add_subplot(111) # Create matplotlib axes\n",
    "ax2 = ax.twinx() # Create another axes that shares the same x-axis as a\n",
    "width = .3\n",
    "\n",
    "poverty_unemployment_df.Poverty_Rate.plot(kind='bar',color='blue', ax=ax2,width = width,position=0)\n",
    "\n",
    "poverty_unemployment_df.Unemployment_Rate.plot(kind='bar',color='green',ax=ax,width=width, position=1)\n",
    "ax.grid(None, axis=1)\n",
    "ax2.grid(None)\n",
    "\n",
    "ax.set_ylabel('Unemployment Rate')\n",
    "ax2.set_ylabel('Poverty Rate')\n",
    "plt.title(\"Unemployment and Poverty rate by Cities\")\n",
    "# Save the figure\n",
    "plt.savefig(\"../Clean_Data/3.Unemployment_Poverty_rate_by_City.png\")\n",
    "plt.show()"
   ]
  },
  {
   "cell_type": "markdown",
   "metadata": {},
   "source": [
    "# WALKABLE ANALYSIS"
   ]
  },
  {
   "cell_type": "code",
   "execution_count": null,
   "metadata": {
    "collapsed": true
   },
   "outputs": [],
   "source": [
    "##Clean and preparing data\n",
    "walk_time_value = los_angeles_census_df[\"Walkable_time_min\"]>-666666666\n",
    "walk_time_value_df = los_angeles_census_df[walk_time_value]\n",
    "\n",
    "walk_time_value_df = walk_time_value_df.groupby([\"City\"])['Walkable_time_min'].agg(['sum']).sort_index().reset_index()\n",
    "walk_time_value_df= walk_time_value_df.rename(columns={\"sum\":\"Walkable_time_min_total\"})\n",
    "\n",
    "walk_time_value_df=walk_time_value_df.sort_values(by='Walkable_time_min_total', ascending=True)\n",
    "walk_time_value_df"
   ]
  },
  {
   "cell_type": "code",
   "execution_count": null,
   "metadata": {
    "collapsed": true
   },
   "outputs": [],
   "source": [
    "sns.set_style(\"whitegrid\")\n",
    "plt.figure(figsize=(15,7))\n",
    "sns.barplot(x=\"City\", y=\"Walkable_time_min_total\", data=walk_time_value_df, palette=sns.color_palette(\"RdYlGn\", 10))\n",
    "\n",
    "plt.xlabel(\"\")\n",
    "plt.ylabel(\"Walk time (min)\")\n",
    "plt.title(\"Walkable cities in LA County\")\n",
    "\n",
    "# Save the figure\n",
    "plt.savefig(\"../Clean_Data/3.Walk_time_by_City.png\")\n",
    "plt.show()"
   ]
  },
  {
   "cell_type": "code",
   "execution_count": null,
   "metadata": {
    "collapsed": true
   },
   "outputs": [],
   "source": [
    "##Same analysis, without LA\n",
    "selected_cities_no_la=['Alhambra','Burbank','Inglewood','Glendale','Long Beach','Palmdale','Pasadena','Santa Clarita','Torrance']\n",
    "walk_time_value_no_la_df=walk_time_value_df[walk_time_value_df['City'].isin(selected_cities_no_la)]\n",
    "walk_time_value_no_la_df\n",
    "\n",
    "sns.set_style(\"whitegrid\")\n",
    "plt.figure(figsize=(15,7))\n",
    "sns.barplot(x=\"City\", y=\"Walkable_time_min_total\", data=walk_time_value_no_la_df, palette=sns.color_palette(\"RdYlGn\", 9))\n",
    "\n",
    "plt.xlabel(\"\")\n",
    "plt.ylabel(\"Walk time (min)\")\n",
    "plt.title(\"Walkable cities without LA\")\n",
    "\n",
    "# Save the figure\n",
    "plt.savefig(\"../Clean_Data/3.Walk_time_by_City_no_la.png\")\n",
    "plt.show()"
   ]
  },
  {
   "cell_type": "markdown",
   "metadata": {},
   "source": [
    "# AGE ANALYSIS"
   ]
  },
  {
   "cell_type": "code",
   "execution_count": null,
   "metadata": {
    "collapsed": true
   },
   "outputs": [],
   "source": [
    "##Clean and preparing data\n",
    "median_age_value = los_angeles_census_df[\"Median Age\"]>-666666666\n",
    "median_male_age_value = los_angeles_census_df[\"Median_male_age\"]>-666666666\n",
    "median_female_age_value = los_angeles_census_df[\"Median_female_age\"]>-666666666\n",
    "\n",
    "\n",
    "age_stats_df = los_angeles_census_df[median_age_value & median_male_age_value & median_female_age_value]\n",
    "age_stats_df = age_stats_df.groupby([\"City\"])[['Median Age','Median_male_age','Median_female_age']].agg(['mean']).sort_index().reset_index()\n",
    "age_stats_df.columns = age_stats_df.columns.droplevel(1)\n",
    "age_stats_df = age_stats_df.rename(columns={\"Median Age\":\"Median_age\"})\n",
    "\n",
    "age_stats_df.head()"
   ]
  },
  {
   "cell_type": "code",
   "execution_count": null,
   "metadata": {
    "collapsed": true
   },
   "outputs": [],
   "source": [
    "##Unpivot data for Seaborn plots\n",
    "sns.set_style(\"whitegrid\")\n",
    "age_stats_df_plot=age_stats_df[['City','Median_age','Median_male_age','Median_female_age']]\n",
    "\n",
    "age_stats_df_upivot=pd.melt(age_stats_df_plot, id_vars=['City'], value_vars=['Median_age', 'Median_male_age','Median_female_age'])\n",
    "\n",
    "cities=age_stats_df[['City']]\n",
    "\n",
    "plt.figure(figsize=(28,10))\n",
    "sns.barplot(x='City', y='value', hue='variable', data=age_stats_df_upivot)\n",
    "plt.xticks(rotation=90)\n",
    "\n",
    "plt.ylabel('age')\n",
    "plt.title('Population Age by City')\n",
    "# Save the figure\n",
    "plt.savefig(\"../Clean_Data/3.Age_analysis_city.png\")\n",
    "plt.show()"
   ]
  },
  {
   "cell_type": "markdown",
   "metadata": {},
   "source": [
    "# EDUCATION ANALYSIS"
   ]
  },
  {
   "cell_type": "code",
   "execution_count": null,
   "metadata": {
    "collapsed": true
   },
   "outputs": [],
   "source": [
    "##Clean and preparing data\n",
    "Education_none_value = los_angeles_census_df[\"Education_none\"]>-666666666\n",
    "\n",
    "education_df = los_angeles_census_df[Education_none_value]\n",
    "\n",
    "education_df = education_df.groupby([\"City\"])[['Education_none','Population']].agg(['sum']).sort_index().reset_index()\n",
    "education_df.columns = education_df.columns.droplevel(1)\n",
    "\n",
    "# Add in Education none Rate (Education none Count / Population)\n",
    "education_df[\"Education_none_Rate\"] = 100 * \\\n",
    "    education_df[\"Education_none\"].astype(\n",
    "        int) / education_df[\"Population\"].astype(int)\n",
    "    \n",
    "education_df=education_df.sort_values(by='Education_none_Rate', ascending=False)\n",
    "education_df"
   ]
  },
  {
   "cell_type": "code",
   "execution_count": null,
   "metadata": {
    "collapsed": true
   },
   "outputs": [],
   "source": [
    "sns.set_style(\"whitegrid\")\n",
    "plt.figure(figsize=(15,7))\n",
    "sns.barplot(x=\"City\", y=\"Education_none_Rate\", data=education_df, palette=sns.color_palette(\"RdYlGn\", 10))\n",
    "\n",
    "plt.xlabel(\"\")\n",
    "plt.ylabel(\"Education none rate\")\n",
    "plt.title(\"Education none rate by City\")\n",
    "\n",
    "# Save the figure\n",
    "plt.savefig(\"../Clean_Data/3.Education_none_by_City.png\")\n",
    "plt.show()"
   ]
  },
  {
   "cell_type": "code",
   "execution_count": null,
   "metadata": {
    "collapsed": true
   },
   "outputs": [],
   "source": []
  }
 ],
 "metadata": {
  "kernelspec": {
   "display_name": "Python 3",
   "language": "python",
   "name": "python3"
  },
  "language_info": {
   "codemirror_mode": {
    "name": "ipython",
    "version": 3
   },
   "file_extension": ".py",
   "mimetype": "text/x-python",
   "name": "python",
   "nbconvert_exporter": "python",
   "pygments_lexer": "ipython3",
   "version": "3.6.3"
  }
 },
 "nbformat": 4,
 "nbformat_minor": 2
}
