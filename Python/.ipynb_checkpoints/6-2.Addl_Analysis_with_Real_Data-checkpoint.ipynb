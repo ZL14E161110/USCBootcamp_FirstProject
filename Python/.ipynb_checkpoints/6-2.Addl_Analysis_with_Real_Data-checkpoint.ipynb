{
 "cells": [
  {
   "cell_type": "code",
   "execution_count": 1,
   "metadata": {
    "collapsed": true
   },
   "outputs": [],
   "source": [
    "import matplotlib.pyplot as plt\n",
    "import pandas as pd\n",
    "import numpy as np\n",
    "import seaborn as sns, numpy as np\n",
    "from itertools import cycle, islice"
   ]
  },
  {
   "cell_type": "code",
   "execution_count": 2,
   "metadata": {
    "collapsed": true
   },
   "outputs": [],
   "source": [
    "##Loading Data in\n",
    "import pandas as pd\n",
    "zillow=pd.read_csv('../Clean_Data/5-3.Combined_zillow_data_with_growthrate.csv',sep=',', encoding='latin-1')"
   ]
  },
  {
   "cell_type": "code",
   "execution_count": 3,
   "metadata": {
    "collapsed": true
   },
   "outputs": [],
   "source": [
    "##Getting City Averages for Columns\n",
    "zillow_gb=zillow.groupby('City').mean()"
   ]
  },
  {
   "cell_type": "code",
   "execution_count": 4,
   "metadata": {
    "collapsed": true
   },
   "outputs": [],
   "source": [
    "##Changing data types so they are more  readable \n",
    "zillow_gb.zestimate=zillow_gb.zestimate.astype('long')\n",
    "zillow_gb.valuation_high=zillow_gb.valuation_high.astype('long')\n",
    "zillow_gb.valuation_low=zillow_gb.valuation_low.astype('long')\n",
    "zillow_gb['tax assessment']=zillow_gb['tax assessment'].astype('long')\n",
    "zillow_gb['tax assess year']=zillow_gb['tax assess year'].astype('int')\n",
    "zillow_gb['lot size']=zillow_gb['lot size'].astype('long')\n",
    "zillow_gb['finished sq ft']=zillow_gb['finished sq ft'].astype('long')\n",
    "zillow_gb['year built']=zillow_gb['year built'].astype('long')\n",
    "zillow_gb.bedrooms=zillow_gb.bedrooms.astype('int')\n",
    "zillow_gb.bathrooms=zillow_gb.bathrooms.astype('int')"
   ]
  },
  {
   "cell_type": "code",
   "execution_count": 5,
   "metadata": {
    "collapsed": true
   },
   "outputs": [],
   "source": [
    "zillow_gb_lat_lng=[['latitude','longitude']]"
   ]
  },
  {
   "cell_type": "code",
   "execution_count": 6,
   "metadata": {
    "collapsed": true
   },
   "outputs": [],
   "source": [
    "##Deleting unnecessary columns\n",
    "del zillow_gb['zpid']\n",
    "del zillow_gb['latitude']\n",
    "del zillow_gb['longitude']\n",
    "del zillow_gb['message_code']"
   ]
  },
  {
   "cell_type": "code",
   "execution_count": 7,
   "metadata": {
    "scrolled": false
   },
   "outputs": [
    {
     "data": {
      "text/html": [
       "<div>\n",
       "<style>\n",
       "    .dataframe thead tr:only-child th {\n",
       "        text-align: right;\n",
       "    }\n",
       "\n",
       "    .dataframe thead th {\n",
       "        text-align: left;\n",
       "    }\n",
       "\n",
       "    .dataframe tbody tr th {\n",
       "        vertical-align: top;\n",
       "    }\n",
       "</style>\n",
       "<table border=\"1\" class=\"dataframe\">\n",
       "  <thead>\n",
       "    <tr style=\"text-align: right;\">\n",
       "      <th></th>\n",
       "      <th>Unnamed: 0</th>\n",
       "      <th>zestimate</th>\n",
       "      <th>rentzestimate</th>\n",
       "      <th>valuation_high</th>\n",
       "      <th>valuation_low</th>\n",
       "      <th>valuechange</th>\n",
       "      <th>tax assessment</th>\n",
       "      <th>tax assess year</th>\n",
       "      <th>year built</th>\n",
       "      <th>lot size</th>\n",
       "      <th>finished sq ft</th>\n",
       "      <th>bedrooms</th>\n",
       "      <th>bathrooms</th>\n",
       "      <th>Housing Growth</th>\n",
       "      <th>PP_lot</th>\n",
       "      <th>PP_sqft</th>\n",
       "    </tr>\n",
       "    <tr>\n",
       "      <th>City</th>\n",
       "      <th></th>\n",
       "      <th></th>\n",
       "      <th></th>\n",
       "      <th></th>\n",
       "      <th></th>\n",
       "      <th></th>\n",
       "      <th></th>\n",
       "      <th></th>\n",
       "      <th></th>\n",
       "      <th></th>\n",
       "      <th></th>\n",
       "      <th></th>\n",
       "      <th></th>\n",
       "      <th></th>\n",
       "      <th></th>\n",
       "      <th></th>\n",
       "    </tr>\n",
       "  </thead>\n",
       "  <tbody>\n",
       "    <tr>\n",
       "      <th>Alhambra</th>\n",
       "      <td>192.500000</td>\n",
       "      <td>786966</td>\n",
       "      <td>2758.840000</td>\n",
       "      <td>829426</td>\n",
       "      <td>742117</td>\n",
       "      <td>18075.940000</td>\n",
       "      <td>385167</td>\n",
       "      <td>2017</td>\n",
       "      <td>1946</td>\n",
       "      <td>19314</td>\n",
       "      <td>1731</td>\n",
       "      <td>2</td>\n",
       "      <td>2</td>\n",
       "      <td>0.265623</td>\n",
       "      <td>40</td>\n",
       "      <td>454</td>\n",
       "    </tr>\n",
       "    <tr>\n",
       "      <th>Burbank</th>\n",
       "      <td>25.500000</td>\n",
       "      <td>1125583</td>\n",
       "      <td>4187.500000</td>\n",
       "      <td>1189356</td>\n",
       "      <td>1060698</td>\n",
       "      <td>11585.269231</td>\n",
       "      <td>552952</td>\n",
       "      <td>2017</td>\n",
       "      <td>1957</td>\n",
       "      <td>39165</td>\n",
       "      <td>2134</td>\n",
       "      <td>3</td>\n",
       "      <td>2</td>\n",
       "      <td>0.132308</td>\n",
       "      <td>28</td>\n",
       "      <td>527</td>\n",
       "    </tr>\n",
       "    <tr>\n",
       "      <th>Glendale</th>\n",
       "      <td>85.000000</td>\n",
       "      <td>1137447</td>\n",
       "      <td>3567.292308</td>\n",
       "      <td>1211146</td>\n",
       "      <td>1063506</td>\n",
       "      <td>21903.676923</td>\n",
       "      <td>566964</td>\n",
       "      <td>2017</td>\n",
       "      <td>1946</td>\n",
       "      <td>12030</td>\n",
       "      <td>2093</td>\n",
       "      <td>3</td>\n",
       "      <td>2</td>\n",
       "      <td>0.222126</td>\n",
       "      <td>94</td>\n",
       "      <td>543</td>\n",
       "    </tr>\n",
       "    <tr>\n",
       "      <th>Inglewood</th>\n",
       "      <td>142.500000</td>\n",
       "      <td>717422</td>\n",
       "      <td>2734.500000</td>\n",
       "      <td>798782</td>\n",
       "      <td>667456</td>\n",
       "      <td>5637.620000</td>\n",
       "      <td>280203</td>\n",
       "      <td>2017</td>\n",
       "      <td>1949</td>\n",
       "      <td>12584</td>\n",
       "      <td>1964</td>\n",
       "      <td>3</td>\n",
       "      <td>2</td>\n",
       "      <td>0.098407</td>\n",
       "      <td>57</td>\n",
       "      <td>365</td>\n",
       "    </tr>\n",
       "    <tr>\n",
       "      <th>Long Beach</th>\n",
       "      <td>245.000000</td>\n",
       "      <td>643798</td>\n",
       "      <td>2456.927273</td>\n",
       "      <td>688384</td>\n",
       "      <td>602054</td>\n",
       "      <td>8054.672727</td>\n",
       "      <td>360702</td>\n",
       "      <td>2017</td>\n",
       "      <td>1940</td>\n",
       "      <td>7511</td>\n",
       "      <td>1704</td>\n",
       "      <td>3</td>\n",
       "      <td>2</td>\n",
       "      <td>0.164882</td>\n",
       "      <td>85</td>\n",
       "      <td>377</td>\n",
       "    </tr>\n",
       "    <tr>\n",
       "      <th>Los Angeles</th>\n",
       "      <td>297.271186</td>\n",
       "      <td>770387</td>\n",
       "      <td>2779.017241</td>\n",
       "      <td>826419</td>\n",
       "      <td>721323</td>\n",
       "      <td>8573.293103</td>\n",
       "      <td>264671</td>\n",
       "      <td>2017</td>\n",
       "      <td>1929</td>\n",
       "      <td>14589</td>\n",
       "      <td>1808</td>\n",
       "      <td>3</td>\n",
       "      <td>2</td>\n",
       "      <td>0.160462</td>\n",
       "      <td>52</td>\n",
       "      <td>426</td>\n",
       "    </tr>\n",
       "    <tr>\n",
       "      <th>Palmdale</th>\n",
       "      <td>358.500000</td>\n",
       "      <td>332900</td>\n",
       "      <td>2145.796296</td>\n",
       "      <td>351534</td>\n",
       "      <td>314708</td>\n",
       "      <td>2855.890909</td>\n",
       "      <td>231949</td>\n",
       "      <td>2017</td>\n",
       "      <td>1983</td>\n",
       "      <td>18357</td>\n",
       "      <td>1940</td>\n",
       "      <td>3</td>\n",
       "      <td>2</td>\n",
       "      <td>0.114943</td>\n",
       "      <td>18</td>\n",
       "      <td>171</td>\n",
       "    </tr>\n",
       "    <tr>\n",
       "      <th>Pasadena</th>\n",
       "      <td>412.000000</td>\n",
       "      <td>1779256</td>\n",
       "      <td>5561.901961</td>\n",
       "      <td>1903052</td>\n",
       "      <td>1652609</td>\n",
       "      <td>4663.000000</td>\n",
       "      <td>773550</td>\n",
       "      <td>2017</td>\n",
       "      <td>1944</td>\n",
       "      <td>24416</td>\n",
       "      <td>5378</td>\n",
       "      <td>3</td>\n",
       "      <td>3</td>\n",
       "      <td>0.110612</td>\n",
       "      <td>72</td>\n",
       "      <td>330</td>\n",
       "    </tr>\n",
       "    <tr>\n",
       "      <th>Santa Clarita</th>\n",
       "      <td>464.500000</td>\n",
       "      <td>759555</td>\n",
       "      <td>3511.407407</td>\n",
       "      <td>806203</td>\n",
       "      <td>712300</td>\n",
       "      <td>11370.055556</td>\n",
       "      <td>548975</td>\n",
       "      <td>2017</td>\n",
       "      <td>1980</td>\n",
       "      <td>35783</td>\n",
       "      <td>2401</td>\n",
       "      <td>3</td>\n",
       "      <td>2</td>\n",
       "      <td>0.163195</td>\n",
       "      <td>21</td>\n",
       "      <td>316</td>\n",
       "    </tr>\n",
       "    <tr>\n",
       "      <th>Torrance</th>\n",
       "      <td>517.000000</td>\n",
       "      <td>897399</td>\n",
       "      <td>3295.117647</td>\n",
       "      <td>947420</td>\n",
       "      <td>847064</td>\n",
       "      <td>10133.588235</td>\n",
       "      <td>437124</td>\n",
       "      <td>2017</td>\n",
       "      <td>1961</td>\n",
       "      <td>18485</td>\n",
       "      <td>1903</td>\n",
       "      <td>3</td>\n",
       "      <td>2</td>\n",
       "      <td>0.138005</td>\n",
       "      <td>48</td>\n",
       "      <td>471</td>\n",
       "    </tr>\n",
       "  </tbody>\n",
       "</table>\n",
       "</div>"
      ],
      "text/plain": [
       "               Unnamed: 0  zestimate  rentzestimate  valuation_high  \\\n",
       "City                                                                  \n",
       "Alhambra       192.500000     786966    2758.840000          829426   \n",
       "Burbank         25.500000    1125583    4187.500000         1189356   \n",
       "Glendale        85.000000    1137447    3567.292308         1211146   \n",
       "Inglewood      142.500000     717422    2734.500000          798782   \n",
       "Long Beach     245.000000     643798    2456.927273          688384   \n",
       "Los Angeles    297.271186     770387    2779.017241          826419   \n",
       "Palmdale       358.500000     332900    2145.796296          351534   \n",
       "Pasadena       412.000000    1779256    5561.901961         1903052   \n",
       "Santa Clarita  464.500000     759555    3511.407407          806203   \n",
       "Torrance       517.000000     897399    3295.117647          947420   \n",
       "\n",
       "               valuation_low   valuechange  tax assessment  tax assess year  \\\n",
       "City                                                                          \n",
       "Alhambra              742117  18075.940000          385167             2017   \n",
       "Burbank              1060698  11585.269231          552952             2017   \n",
       "Glendale             1063506  21903.676923          566964             2017   \n",
       "Inglewood             667456   5637.620000          280203             2017   \n",
       "Long Beach            602054   8054.672727          360702             2017   \n",
       "Los Angeles           721323   8573.293103          264671             2017   \n",
       "Palmdale              314708   2855.890909          231949             2017   \n",
       "Pasadena             1652609   4663.000000          773550             2017   \n",
       "Santa Clarita         712300  11370.055556          548975             2017   \n",
       "Torrance              847064  10133.588235          437124             2017   \n",
       "\n",
       "               year built  lot size  finished sq ft  bedrooms  bathrooms  \\\n",
       "City                                                                       \n",
       "Alhambra             1946     19314            1731         2          2   \n",
       "Burbank              1957     39165            2134         3          2   \n",
       "Glendale             1946     12030            2093         3          2   \n",
       "Inglewood            1949     12584            1964         3          2   \n",
       "Long Beach           1940      7511            1704         3          2   \n",
       "Los Angeles          1929     14589            1808         3          2   \n",
       "Palmdale             1983     18357            1940         3          2   \n",
       "Pasadena             1944     24416            5378         3          3   \n",
       "Santa Clarita        1980     35783            2401         3          2   \n",
       "Torrance             1961     18485            1903         3          2   \n",
       "\n",
       "               Housing Growth  PP_lot  PP_sqft  \n",
       "City                                            \n",
       "Alhambra             0.265623      40      454  \n",
       "Burbank              0.132308      28      527  \n",
       "Glendale             0.222126      94      543  \n",
       "Inglewood            0.098407      57      365  \n",
       "Long Beach           0.164882      85      377  \n",
       "Los Angeles          0.160462      52      426  \n",
       "Palmdale             0.114943      18      171  \n",
       "Pasadena             0.110612      72      330  \n",
       "Santa Clarita        0.163195      21      316  \n",
       "Torrance             0.138005      48      471  "
      ]
     },
     "execution_count": 7,
     "metadata": {},
     "output_type": "execute_result"
    }
   ],
   "source": [
    "##Calculating some new measures\n",
    "#Price per Lot Size\n",
    "zillow_gb['PP_lot']=zillow_gb.zestimate/zillow_gb['lot size']\n",
    "zillow_gb.PP_lot=zillow_gb.PP_lot.astype('int')\n",
    "#Price per house size\n",
    "zillow_gb['PP_sqft']=zillow_gb.zestimate/zillow_gb['finished sq ft']\n",
    "zillow_gb.PP_sqft=zillow_gb.PP_sqft.astype('int')\n",
    "zillow_gb"
   ]
  },
  {
   "cell_type": "code",
   "execution_count": 10,
   "metadata": {
    "collapsed": true
   },
   "outputs": [],
   "source": [
    "##Getting city house prices for box and whisker plots \n",
    "zillow_box=zillow[['City','zestimate']]"
   ]
  },
  {
   "cell_type": "code",
   "execution_count": 11,
   "metadata": {
    "collapsed": true
   },
   "outputs": [],
   "source": [
    "##Getting city house prices for box and whisker plots \n",
    "Glendale=zillow_box[zillow_box['City']=='Glendale']     \n",
    "Burbank=zillow_box[zillow_box['City']=='Burbank'] \n",
    "Inglewood=zillow_box[zillow_box['City']=='Inglewood'] \n",
    "Alhambra=zillow_box[zillow_box['City']=='Alhambra'] \n",
    "Pasadena=zillow_box[zillow_box['City']=='Pasadena'] \n",
    "Long_Beach=zillow_box[zillow_box['City']=='Long Beach'] \n",
    "Los_Angeles=zillow_box[zillow_box['City']=='Los Angeles'] \n",
    "Palmdale=zillow_box[zillow_box['City']=='Palmdale'] \n",
    "Santa_Clarita=zillow_box[zillow_box['City']=='Santa Clarita'] \n",
    "Torrance=zillow_box[zillow_box['City']=='Torrance'] "
   ]
  },
  {
   "cell_type": "code",
   "execution_count": 12,
   "metadata": {
    "collapsed": true,
    "scrolled": true
   },
   "outputs": [],
   "source": [
    "##Getting city house prices for box and whisker plots \n",
    "##Getting only 50 per city the cities dont have matching records \n",
    "Glendale=Glendale.sample(n=50)\n",
    "Burbank=Burbank.sample(n=50)\n",
    "Inglewood=Inglewood.sample(n=50)\n",
    "Alhambra=Alhambra.sample(n=50)\n",
    "Pasadena=Pasadena.sample(n=50)\n",
    "Long_Beach=Long_Beach.sample(n=50)\n",
    "Los_Angeles=Los_Angeles.sample(n=50)\n",
    "Palmdale=Palmdale.sample(n=50)\n",
    "Santa_Clarita=Santa_Clarita.sample(n=50)\n",
    "Torrance=Torrance.sample(n=50)"
   ]
  },
  {
   "cell_type": "code",
   "execution_count": 13,
   "metadata": {
    "collapsed": true
   },
   "outputs": [],
   "source": [
    "##Getting city house prices for box and whisker plots \n",
    "Glendale.columns=['city','Glendal']\n",
    "Burbank.columns=['city','Burbank']\n",
    "Inglewood.columns=['city','Inglewood']\n",
    "Alhambra.columns=['city','Alhambra']\n",
    "Pasadena.columns=['city','Pasadena']\n",
    "Long_Beach.columns=['city','Long_Beach']\n",
    "Los_Angeles.columns=['city','Los_Angeles']\n",
    "Palmdale.columns=['city','Palmdale']\n",
    "Santa_Clarita.columns=['city','Santa_Clarita']\n",
    "Torrance.columns=['city','Torrance']"
   ]
  },
  {
   "cell_type": "code",
   "execution_count": 14,
   "metadata": {
    "collapsed": true
   },
   "outputs": [],
   "source": [
    "##Getting city house prices for box and whisker plots \n",
    "Glendale=Glendale.reset_index()\n",
    "Burbank=Burbank.reset_index()\n",
    "Inglewood=Inglewood.reset_index()\n",
    "Alhambra=Alhambra.reset_index()\n",
    "Pasadena=Pasadena.reset_index()\n",
    "Long_Beach=Long_Beach.reset_index()\n",
    "Los_Angeles=Los_Angeles.reset_index()\n",
    "Palmdale=Palmdale.reset_index()\n",
    "Santa_Clarita=Santa_Clarita.reset_index()\n",
    "Torrance=Torrance.reset_index()"
   ]
  },
  {
   "cell_type": "code",
   "execution_count": 15,
   "metadata": {
    "collapsed": true
   },
   "outputs": [],
   "source": [
    "##Getting city house prices for box and whisker plots \n",
    "df=pd.concat([Glendale.Glendal\n",
    "           ,Burbank.Burbank\n",
    "           ,Inglewood.Inglewood\n",
    "           ,Alhambra.Alhambra\n",
    "           ,Pasadena.Pasadena\n",
    "           ,Long_Beach.Long_Beach\n",
    "           ,Los_Angeles.Los_Angeles\n",
    "           ,Palmdale.Palmdale\n",
    "           ,Santa_Clarita.Santa_Clarita\n",
    "           ,Torrance.Torrance],axis=1)"
   ]
  },
  {
   "cell_type": "code",
   "execution_count": 17,
   "metadata": {},
   "outputs": [
    {
     "data": {
      "image/png": "[encoded data removed]",
      "text/plain": [
       "<matplotlib.figure.Figure at 0x255f624da58>"
      ]
     },
     "metadata": {},
     "output_type": "display_data"
    }
   ],
   "source": [
    "##Drawing the box and whisker plots to see the variances in terms of prices \n",
    "import seaborn as sns\n",
    "from matplotlib import pyplot as plt\n",
    "plt.figure(figsize=(10,6))\n",
    "sns.boxplot(data=df)\n",
    "plt.ylim(0,5000000)\n",
    "plt.ylabel(\"Price, USD\")\n",
    "plt.title('House Price Ranges per City')\n",
    "plt.xticks(rotation=90)\n",
    "plt.savefig(\"../Clean_Data/6-2.House_Price_Ranges_per_City.png\")\n",
    "plt.show()"
   ]
  },
  {
   "cell_type": "code",
   "execution_count": 24,
   "metadata": {},
   "outputs": [
    {
     "data": {
      "image/png": "[encoded data removed]",
      "text/plain": [
       "<matplotlib.figure.Figure at 0x255f62b1278>"
      ]
     },
     "metadata": {},
     "output_type": "display_data"
    }
   ],
   "source": [
    "# Drawing out Average Price Per sqft per City\n",
    "# set the plot x_axis, y_axis, title and label \n",
    "sns.set_style(\"whitegrid\")\n",
    "plt.figure(figsize=(10,6))\n",
    "sns.barplot(x=zillow_gb.index, y=\"PP_sqft\", data=zillow_gb, palette=sns.color_palette(\"Set3\", 19))\n",
    "plt.xticks(rotation=90)\n",
    "plt.ylabel(\"Price, USD\")\n",
    "plt.title(\"Average Price Per Squarefeet Per City\")\n",
    "plt.savefig(\"../Clean_Data/6-2.Average_Price_Per_Squarefeet_Per_City.png\")\n",
    "plt.show()"
   ]
  },
  {
   "cell_type": "code",
   "execution_count": 23,
   "metadata": {
    "scrolled": false
   },
   "outputs": [
    {
     "data": {
      "image/png": "[encoded data removed]",
      "text/plain": [
       "<matplotlib.figure.Figure at 0x255f62ad588>"
      ]
     },
     "metadata": {},
     "output_type": "display_data"
    }
   ],
   "source": [
    "# Drawing out Average Price Per lot per City\n",
    "# set the plot x_axis, y_axis, title and label \n",
    "sns.set_style(\"whitegrid\")\n",
    "plt.figure(figsize=(10,6))\n",
    "sns.barplot(x=zillow_gb.index, y=\"PP_lot\", data=zillow_gb, palette=sns.color_palette(\"Set3\", 19))\n",
    "plt.xticks(rotation=90)\n",
    "plt.ylabel(\"Price, USD\")\n",
    "plt.title(\"Average Price Per lot Per City\")\n",
    "plt.savefig(\"../Clean_Data/6-2.Average_Price_Per_lot_Per_City.png\")\n",
    "plt.show()"
   ]
  },
  {
   "cell_type": "code",
   "execution_count": 25,
   "metadata": {},
   "outputs": [
    {
     "data": {
      "image/png": "[encoded data removed]",
      "text/plain": [
       "<matplotlib.figure.Figure at 0x255f6258c50>"
      ]
     },
     "metadata": {},
     "output_type": "display_data"
    }
   ],
   "source": [
    "# Drawing out Average year built per City\n",
    "# set the plot x_axis, y_axis, title and label \n",
    "sns.set_style(\"whitegrid\")\n",
    "plt.figure(figsize=(10,6))\n",
    "sns.barplot(x=zillow_gb.index, y=\"year built\", data=zillow_gb, palette=sns.color_palette(\"Set3\", 19))\n",
    "plt.xticks(rotation=90)\n",
    "plt.ylim(1920,1990)\n",
    "plt.ylabel(\"Year\")\n",
    "plt.title(\"Average year built Per City\")\n",
    "\n",
    "plt.savefig(\"../Clean_Data/6-2.Average_year_built_Per_City.png\")\n",
    "plt.show()"
   ]
  }
 ],
 "metadata": {
  "kernelspec": {
   "display_name": "Python 3",
   "language": "python",
   "name": "python3"
  },
  "language_info": {
   "codemirror_mode": {
    "name": "ipython",
    "version": 3
   },
   "file_extension": ".py",
   "mimetype": "text/x-python",
   "name": "python",
   "nbconvert_exporter": "python",
   "pygments_lexer": "ipython3",
   "version": "3.6.3"
  }
 },
 "nbformat": 4,
 "nbformat_minor": 2
}
