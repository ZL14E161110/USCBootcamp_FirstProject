{
 "cells": [
  {
   "cell_type": "code",
   "execution_count": 1,
   "metadata": {
    "collapsed": true
   },
   "outputs": [],
   "source": [
    "# Dependencies\n",
    "import requests\n",
    "import json\n",
    "import pandas as pd\n",
    "\n",
    "# Google developer API key\n",
    "from config import gkey1\n",
    "\n",
    "# Target city #### Getting coordinates from Geogle GeoCoding API ###API 1\n",
    "city_address=pd.read_csv('Python\city_codes.csv',sep=',')"
   ]
  },
  {
   "cell_type": "code",
   "execution_count": 4,
   "metadata": {},
   "outputs": [],
   "source": [
    "LA_cities=city_address[city_address['Metro']=='Los Angeles']"
   ]
  },
  {
   "cell_type": "code",
   "execution_count": 8,
   "metadata": {},
   "outputs": [],
   "source": [
    "list_city=['Los Angeles',\n",
    "'Long Beach',\n",
    "'Santa Clarita',\n",
    "'Glendale',\n",
    "'Palmdale',\n",
    "'Lancaster',\n",
    "'Pomona',\n",
    "'Torrance',\n",
    "'Pasadena',\n",
    "'Inglewood',\n",
    "'El Monte',\n",
    "'Downey',\n",
    "'West Covina',\n",
    "'Norwalk',\n",
    "'Burbank',\n",
    "'Compton',\n",
    "'South Gate',\n",
    "'Whittier',\n",
    "'Hawthrone',\n",
    "'Alhambra']"
   ]
  },
  {
   "cell_type": "code",
   "execution_count": 22,
   "metadata": {},
   "outputs": [
    {
     "data": {
      "text/html": [
       "<div>\n",
       "<style>\n",
       "    .dataframe thead tr:only-child th {\n",
       "        text-align: right;\n",
       "    }\n",
       "\n",
       "    .dataframe thead th {\n",
       "        text-align: left;\n",
       "    }\n",
       "\n",
       "    .dataframe tbody tr th {\n",
       "        vertical-align: top;\n",
       "    }\n",
       "</style>\n",
       "<table border=\"1\" class=\"dataframe\">\n",
       "  <thead>\n",
       "    <tr style=\"text-align: right;\">\n",
       "      <th></th>\n",
       "      <th>Region</th>\n",
       "      <th>State</th>\n",
       "      <th>Metro</th>\n",
       "      <th>County</th>\n",
       "      <th>Code</th>\n",
       "    </tr>\n",
       "  </thead>\n",
       "  <tbody>\n",
       "    <tr>\n",
       "      <th>1</th>\n",
       "      <td>Los Angeles</td>\n",
       "      <td>CA</td>\n",
       "      <td>Los Angeles</td>\n",
       "      <td>Los Angeles</td>\n",
       "      <td>2</td>\n",
       "    </tr>\n",
       "    <tr>\n",
       "      <th>27</th>\n",
       "      <td>Long Beach</td>\n",
       "      <td>CA</td>\n",
       "      <td>Los Angeles</td>\n",
       "      <td>Los Angeles</td>\n",
       "      <td>28</td>\n",
       "    </tr>\n",
       "    <tr>\n",
       "      <th>41</th>\n",
       "      <td>Anaheim</td>\n",
       "      <td>CA</td>\n",
       "      <td>Los Angeles</td>\n",
       "      <td>Orange</td>\n",
       "      <td>42</td>\n",
       "    </tr>\n",
       "    <tr>\n",
       "      <th>43</th>\n",
       "      <td>Santa Ana</td>\n",
       "      <td>CA</td>\n",
       "      <td>Los Angeles</td>\n",
       "      <td>Orange</td>\n",
       "      <td>44</td>\n",
       "    </tr>\n",
       "    <tr>\n",
       "      <th>97</th>\n",
       "      <td>Irvine</td>\n",
       "      <td>CA</td>\n",
       "      <td>Los Angeles</td>\n",
       "      <td>Orange</td>\n",
       "      <td>98</td>\n",
       "    </tr>\n",
       "  </tbody>\n",
       "</table>\n",
       "</div>"
      ],
      "text/plain": [
       "         Region State        Metro       County  Code\n",
       "1   Los Angeles    CA  Los Angeles  Los Angeles     2\n",
       "27   Long Beach    CA  Los Angeles  Los Angeles    28\n",
       "41      Anaheim    CA  Los Angeles       Orange    42\n",
       "43    Santa Ana    CA  Los Angeles       Orange    44\n",
       "97       Irvine    CA  Los Angeles       Orange    98"
      ]
     },
     "execution_count": 22,
     "metadata": {},
     "output_type": "execute_result"
    }
   ],
   "source": [
    "LA_cities.head()"
   ]
  },
  {
   "cell_type": "code",
   "execution_count": 37,
   "metadata": {
    "scrolled": true
   },
   "outputs": [],
   "source": [
    "final=[]\n",
    "for i in range(len(LA_cities)):\n",
    "    target=LA_cities.iloc[i,:]\n",
    "    table_final={}\n",
    "    table_final['Region']=target['Region']\n",
    "    table_final['State']=target['State']\n",
    "    if table_final['Region'] in list_city:\n",
    "        final.append(table_final)"
   ]
  },
  {
   "cell_type": "code",
   "execution_count": 50,
   "metadata": {},
   "outputs": [],
   "source": [
    "#regions=pd.DataFrame(final)\n",
    "list_Region=regions['Region']"
   ]
  },
  {
   "cell_type": "code",
   "execution_count": 53,
   "metadata": {
    "collapsed": true
   },
   "outputs": [
    {
     "name": "stdout",
     "output_type": "stream",
     "text": [
      "34.0522342\n",
      "34.0522342\n",
      "34.0522342\n",
      "34.0522342\n",
      "34.0522342\n",
      "33.7700504\n",
      "33.7700504\n",
      "33.7700504\n",
      "33.7700504\n",
      "33.7700504\n",
      "34.1425078\n",
      "34.1425078\n",
      "34.1425078\n",
      "34.1425078\n",
      "34.1425078\n",
      "40.0378755\n",
      "40.0378755\n",
      "40.0378755\n",
      "40.0378755\n",
      "40.0378755\n",
      "34.5794343\n",
      "34.5794343\n",
      "34.5794343\n",
      "34.5794343\n",
      "34.5794343\n",
      "34.3916641\n",
      "34.3916641\n",
      "34.3916641\n",
      "34.3916641\n",
      "34.3916641\n",
      "34.055103\n",
      "34.055103\n",
      "34.055103\n",
      "34.055103\n",
      "34.055103\n",
      "33.8358492\n",
      "33.8358492\n",
      "33.8358492\n",
      "33.8358492\n",
      "33.8358492\n",
      "34.1477849\n",
      "34.1477849\n",
      "34.1477849\n",
      "34.1477849\n",
      "34.1477849\n",
      "33.9616801\n",
      "33.9616801\n",
      "33.9616801\n",
      "33.9616801\n",
      "33.9616801\n",
      "33.8958492\n",
      "33.8958492\n",
      "33.8958492\n",
      "33.8958492\n",
      "33.8958492\n",
      "33.9401088\n",
      "33.9401088\n",
      "33.9401088\n",
      "33.9401088\n",
      "33.9401088\n",
      "34.0686208\n",
      "34.0686208\n",
      "34.0686208\n",
      "34.0686208\n",
      "34.0686208\n",
      "41.11774399999999\n",
      "41.11774399999999\n",
      "41.11774399999999\n",
      "41.11774399999999\n",
      "41.11774399999999\n",
      "34.1808392\n",
      "34.1808392\n",
      "34.1808392\n",
      "34.1808392\n",
      "34.1808392\n",
      "33.954737\n",
      "33.954737\n",
      "33.954737\n",
      "33.954737\n",
      "33.954737\n",
      "34.0686206\n",
      "34.0686206\n",
      "34.0686206\n",
      "34.0686206\n",
      "34.0686206\n",
      "33.9791793\n",
      "33.9791793\n",
      "33.9791793\n",
      "33.9791793\n",
      "33.9791793\n",
      "34.095287\n",
      "34.095287\n",
      "34.095287\n",
      "34.095287\n",
      "34.095287\n"
     ]
    }
   ],
   "source": [
    "# Run a request to endpoint and convert result to json\n",
    "target=[]\n",
    "for i in range(len(list_Region)):\n",
    "    \n",
    "    target_city=list_Region[i]\n",
    "    target_url = \"https://maps.googleapis.com/maps/api/geocode/json?\" \\\n",
    "     \"address=%s&key=%s\" % (target_city, gkey)\n",
    "    geo_data = requests.get(target_url).json()\n",
    "    #print(geo_data)\n",
    "    R1=geo_data[\"results\"][0]\n",
    "    #print(R1)\n",
    "    for a in range(len(R1)):\n",
    "        R2=R1[\"geometry\"]\n",
    "        print(R2['location']['lat'])\n",
    "        for j in R2:\n",
    "            citi={}\n",
    "            citi['lat']=R2[\"location\"][\"lat\"]\n",
    "            citi['lng']=R2[\"location\"][\"lng\"]\n",
    "            citi['northeast_Lat']=R2[\"bounds\"][\"northeast\"][\"lat\"]\n",
    "            citi['northeast_Lng']=R2[\"bounds\"][\"northeast\"][\"lng\"]\n",
    "            citi['southwest_Lat']=R2[\"bounds\"][\"southwest\"][\"lat\"]\n",
    "            citi['southwest_Lng']=R2[\"bounds\"][\"southwest\"][\"lng\"]\n",
    "            citi['address']=target_city\n",
    "    target.append(citi)"
   ]
  },
  {
   "cell_type": "code",
   "execution_count": 54,
   "metadata": {
    "collapsed": true
   },
   "outputs": [],
   "source": [
    "address_coordinate=pd.DataFrame(target)"
   ]
  },
  {
   "cell_type": "code",
   "execution_count": 57,
   "metadata": {},
   "outputs": [],
   "source": [
    "#address_coordinate\n",
    "address_coordinate.to_csv('address_coordinate.csv',sep=',', index=None)"
   ]
  }
 ],
 "metadata": {
  "kernelspec": {
   "display_name": "Python 3",
   "language": "python",
   "name": "python3"
  },
  "language_info": {
   "codemirror_mode": {
    "name": "ipython",
    "version": 3
   },
   "file_extension": ".py",
   "mimetype": "text/x-python",
   "name": "python",
   "nbconvert_exporter": "python",
   "pygments_lexer": "ipython3",
   "version": "3.6.1"
  }
 },
 "nbformat": 4,
 "nbformat_minor": 2
}
