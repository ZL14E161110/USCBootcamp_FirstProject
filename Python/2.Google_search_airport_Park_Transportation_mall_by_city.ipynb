{
 "cells": [
  {
   "cell_type": "code",
   "execution_count": 114,
   "metadata": {
    "collapsed": true
   },
   "outputs": [],
   "source": [
    "# Dependencies\n",
    "import requests\n",
    "import json\n",
    "import pandas as pd\n",
    "\n",
    "# Google developer API key\n",
    "from config import gkey,gkey_places\n",
    "\n",
    "file_one = \"LA_cities_Lat_lng_codes_data.csv\"\n",
    "cities_df = pd.read_csv(file_one, encoding = \"ISO-8859-1\")\n",
    "\n",
    "cities_df.head()\n",
    "file_one_df=cities_df[:]"
   ]
  },
  {
   "cell_type": "code",
   "execution_count": 115,
   "metadata": {
    "collapsed": true
   },
   "outputs": [],
   "source": [
    "# Create an empty column for bank count\n",
    "cities_df[\"airport\"]=None\n",
    "\n",
    "base_url = \"https://maps.googleapis.com/maps/api/place/nearbysearch/json\"\n",
    "\n",
    "for index, row in file_one_df.iterrows():\n",
    "    target_coordinates = str(row[\"lat\"]) +\",\"+str(row[\"lng\"]) \n",
    "    target_radius = 3000\n",
    "    target_type = \"airport\"\n",
    "    #target_keyword =\"airport\"\n",
    "\n",
    "    params = {\n",
    "        \"location\": target_coordinates,\n",
    "        \"radius\": target_radius,\n",
    "        \"type\": target_type,\n",
    "        \"key\": gkey_places}\n",
    "        #\"keyword\": target_keyword}\n",
    "\n",
    "    response = requests.get(base_url, params=params)\n",
    "    airport_data = response.json()\n",
    "\n",
    "    #print(json.dumps(airport_data, indent=4, sort_keys=True))\n",
    "\n",
    "    counter = 0\n",
    "    for airport in airport_data[\"results\"]:\n",
    "        #print(airport[\"name\"])\n",
    "        #print(airport[\"vicinity\"])\n",
    "        #print(airport[\"name\"].upper().find(\"AIRPORT\"))\n",
    "        \n",
    "        if airport[\"name\"].upper().find(\"AIRPORT\")>0:\n",
    "            counter += 1\n",
    "            \n",
    "        \n",
    "    cities_df.set_value(index,\"airport\",counter)"
   ]
  },
  {
   "cell_type": "code",
   "execution_count": 116,
   "metadata": {
    "collapsed": true
   },
   "outputs": [],
   "source": [
    "# Create an empty column for bank count\n",
    "cities_df[\"public_transportation\"]=None\n",
    "\n",
    "base_url = \"https://maps.googleapis.com/maps/api/place/nearbysearch/json\"\n",
    "\n",
    "for index, row in file_one_df.iterrows():\n",
    "    target_coordinates = str(row[\"lat\"]) +\",\"+str(row[\"lng\"]) \n",
    "    target_radius = 3000\n",
    "    target_type = [\"light_rail_station\",\n",
    "                \"transit_station\",\"subway_station\"]\n",
    "    #target_keyword =\"bank\"\n",
    "\n",
    "    params = {\n",
    "        \"location\": target_coordinates,\n",
    "        \"radius\": target_radius,\n",
    "        \"type\": target_type,\n",
    "        \"key\": gkey_places}\n",
    "        #\"keyword\": target_keyword}\n",
    "\n",
    "    response = requests.get(base_url, params=params)\n",
    "    train_data = response.json()\n",
    "\n",
    "    #print(json.dumps(train_data, indent=4, sort_keys=True))\n",
    "\n",
    "    counter = 0\n",
    "    for train in train_data[\"results\"]:\n",
    "        #print(train[\"name\"])\n",
    "        #print(train[\"vicinity\"])\n",
    "        counter += 1\n",
    "        \n",
    "    cities_df.set_value(index,\"public_transportation\",counter)"
   ]
  },
  {
   "cell_type": "code",
   "execution_count": 117,
   "metadata": {
    "collapsed": true
   },
   "outputs": [],
   "source": [
    "# Create an empty column for bank count\n",
    "cities_df[\"park\"]=None\n",
    "\n",
    "base_url = \"https://maps.googleapis.com/maps/api/place/nearbysearch/json\"\n",
    "\n",
    "for index, row in file_one_df.iterrows():\n",
    "    target_coordinates = str(row[\"lat\"]) +\",\"+str(row[\"lng\"]) \n",
    "    target_radius = 3000\n",
    "    target_type = \"park\"\n",
    "    #target_keyword =\"bank\"\n",
    "\n",
    "    params = {\n",
    "        \"location\": target_coordinates,\n",
    "        \"radius\": target_radius,\n",
    "        \"type\": target_type,\n",
    "        \"key\": gkey_places}\n",
    "        #\"keyword\": target_keyword}\n",
    "\n",
    "    response = requests.get(base_url, params=params)\n",
    "    park_data = response.json()\n",
    "\n",
    "    #print(json.dumps(park_data, indent=4, sort_keys=True))\n",
    "\n",
    "    counter = 0\n",
    "    for park in park_data[\"results\"]:\n",
    "        #print(park[\"name\"])\n",
    "        #print(park[\"vicinity\"])\n",
    "        #print(park[\"rating\"])\n",
    "        #if park[\"rating\"]>3:\n",
    "        counter += 1\n",
    "                \n",
    "    cities_df.set_value(index,\"park\",counter)"
   ]
  },
  {
   "cell_type": "code",
   "execution_count": 118,
   "metadata": {
    "collapsed": true
   },
   "outputs": [],
   "source": [
    "# Create an empty column for bank count\n",
    "cities_df[\"shopping_mall\"]=None\n",
    "\n",
    "base_url = \"https://maps.googleapis.com/maps/api/place/nearbysearch/json\"\n",
    "\n",
    "for index, row in file_one_df.iterrows():\n",
    "    target_coordinates = str(row[\"lat\"]) +\",\"+str(row[\"lng\"]) \n",
    "    target_radius = 3000\n",
    "    target_type = \"shopping_mall\"\n",
    "    #target_keyword =\"bank\"\n",
    "\n",
    "    params = {\n",
    "        \"location\": target_coordinates,\n",
    "        \"radius\": target_radius,\n",
    "        \"type\": target_type,\n",
    "        \"key\": gkey_places}\n",
    "        #\"keyword\": target_keyword}\n",
    "\n",
    "    response = requests.get(base_url, params=params)\n",
    "    shopping_mall_data = response.json()\n",
    "\n",
    "    #print(json.dumps(shopping_mall_data, indent=4, sort_keys=True))\n",
    "\n",
    "    counter = 0\n",
    "    for shopping_mall in shopping_mall_data[\"results\"]:\n",
    "        #print(shopping_mall[\"name\"])\n",
    "        #print(shopping_mall[\"vicinity\"])\n",
    "        #print(shopping_mall[\"rating\"])\n",
    "        \n",
    "        try:\n",
    "            if shopping_mall[\"rating\"]>4:\n",
    "                counter += 1\n",
    "        except KeyError:\n",
    "            continue\n",
    "        \n",
    "                \n",
    "    cities_df.set_value(index,\"shopping_mall\",counter)\n",
    "    "
   ]
  },
  {
   "cell_type": "code",
   "execution_count": 119,
   "metadata": {},
   "outputs": [],
   "source": [
    "# Change Column name\n",
    "cities_df=cities_df.rename(columns={\"address\":\"City\"})"
   ]
  },
  {
   "cell_type": "code",
   "execution_count": 120,
   "metadata": {},
   "outputs": [],
   "source": [
    "# Getting only necessary columns\n",
    "cities_dfb=cities_df[['City','public_transportation','park','shopping_mall','airport']]"
   ]
  },
  {
   "cell_type": "code",
   "execution_count": 135,
   "metadata": {},
   "outputs": [
    {
     "data": {
      "text/html": [
       "<div>\n",
       "<style>\n",
       "    .dataframe thead tr:only-child th {\n",
       "        text-align: right;\n",
       "    }\n",
       "\n",
       "    .dataframe thead th {\n",
       "        text-align: left;\n",
       "    }\n",
       "\n",
       "    .dataframe tbody tr th {\n",
       "        vertical-align: top;\n",
       "    }\n",
       "</style>\n",
       "<table border=\"1\" class=\"dataframe\">\n",
       "  <thead>\n",
       "    <tr style=\"text-align: right;\">\n",
       "      <th></th>\n",
       "      <th>City</th>\n",
       "      <th>public_transportation</th>\n",
       "      <th>park</th>\n",
       "      <th>shopping_mall</th>\n",
       "      <th>airport</th>\n",
       "    </tr>\n",
       "  </thead>\n",
       "  <tbody>\n",
       "    <tr>\n",
       "      <th>0</th>\n",
       "      <td>Los Angeles</td>\n",
       "      <td>7</td>\n",
       "      <td>17</td>\n",
       "      <td>12</td>\n",
       "      <td>0</td>\n",
       "    </tr>\n",
       "    <tr>\n",
       "      <th>1</th>\n",
       "      <td>Long Beach</td>\n",
       "      <td>6</td>\n",
       "      <td>16</td>\n",
       "      <td>8</td>\n",
       "      <td>0</td>\n",
       "    </tr>\n",
       "    <tr>\n",
       "      <th>2</th>\n",
       "      <td>Glendale</td>\n",
       "      <td>0</td>\n",
       "      <td>19</td>\n",
       "      <td>11</td>\n",
       "      <td>0</td>\n",
       "    </tr>\n",
       "    <tr>\n",
       "      <th>4</th>\n",
       "      <td>Palmdale</td>\n",
       "      <td>0</td>\n",
       "      <td>9</td>\n",
       "      <td>2</td>\n",
       "      <td>0</td>\n",
       "    </tr>\n",
       "    <tr>\n",
       "      <th>5</th>\n",
       "      <td>Santa Clarita</td>\n",
       "      <td>0</td>\n",
       "      <td>15</td>\n",
       "      <td>9</td>\n",
       "      <td>0</td>\n",
       "    </tr>\n",
       "  </tbody>\n",
       "</table>\n",
       "</div>"
      ],
      "text/plain": [
       "            City public_transportation park shopping_mall airport\n",
       "0    Los Angeles                     7   17            12       0\n",
       "1     Long Beach                     6   16             8       0\n",
       "2       Glendale                     0   19            11       0\n",
       "4       Palmdale                     0    9             2       0\n",
       "5  Santa Clarita                     0   15             9       0"
      ]
     },
     "execution_count": 135,
     "metadata": {},
     "output_type": "execute_result"
    }
   ],
   "source": [
    "cities_dfb.head()"
   ]
  },
  {
   "cell_type": "code",
   "execution_count": 122,
   "metadata": {},
   "outputs": [],
   "source": [
    "#slicing for the cities that we are doing \n",
    "part1=cities_dfb.loc[0:2,:]\n",
    "part2=cities_dfb.loc[4:5,:]\n",
    "part3=cities_dfb.loc[7:9,:]\n",
    "part4=pd.DataFrame(cities_dfb.loc[14,:]).T\n",
    "part5=pd.DataFrame(cities_dfb.loc[18,:]).T"
   ]
  },
  {
   "cell_type": "code",
   "execution_count": null,
   "metadata": {
    "scrolled": false
   },
   "outputs": [],
   "source": [
    "#slicing for the cities that we are doing \n",
    "cities_dfb=pd.concat([part1,part2,part3,part4,part5])\n",
    "cities_df_copy=cities_dfb[:]\n",
    "cities_dfb"
   ]
  },
  {
   "cell_type": "code",
   "execution_count": 129,
   "metadata": {},
   "outputs": [
    {
     "data": {
      "text/html": [
       "<div>\n",
       "<style>\n",
       "    .dataframe thead tr:only-child th {\n",
       "        text-align: right;\n",
       "    }\n",
       "\n",
       "    .dataframe thead th {\n",
       "        text-align: left;\n",
       "    }\n",
       "\n",
       "    .dataframe tbody tr th {\n",
       "        vertical-align: top;\n",
       "    }\n",
       "</style>\n",
       "<table border=\"1\" class=\"dataframe\">\n",
       "  <thead>\n",
       "    <tr style=\"text-align: right;\">\n",
       "      <th></th>\n",
       "      <th>City</th>\n",
       "      <th>public_transportation</th>\n",
       "      <th>park</th>\n",
       "      <th>shopping_mall</th>\n",
       "      <th>airport</th>\n",
       "    </tr>\n",
       "  </thead>\n",
       "  <tbody>\n",
       "    <tr>\n",
       "      <th>0</th>\n",
       "      <td>Los Angeles</td>\n",
       "      <td>7</td>\n",
       "      <td>17</td>\n",
       "      <td>12</td>\n",
       "      <td>0</td>\n",
       "    </tr>\n",
       "    <tr>\n",
       "      <th>1</th>\n",
       "      <td>Long Beach</td>\n",
       "      <td>6</td>\n",
       "      <td>16</td>\n",
       "      <td>8</td>\n",
       "      <td>0</td>\n",
       "    </tr>\n",
       "    <tr>\n",
       "      <th>2</th>\n",
       "      <td>Glendale</td>\n",
       "      <td>0</td>\n",
       "      <td>19</td>\n",
       "      <td>11</td>\n",
       "      <td>0</td>\n",
       "    </tr>\n",
       "    <tr>\n",
       "      <th>4</th>\n",
       "      <td>Palmdale</td>\n",
       "      <td>0</td>\n",
       "      <td>9</td>\n",
       "      <td>2</td>\n",
       "      <td>0</td>\n",
       "    </tr>\n",
       "    <tr>\n",
       "      <th>5</th>\n",
       "      <td>Santa Clarita</td>\n",
       "      <td>0</td>\n",
       "      <td>15</td>\n",
       "      <td>9</td>\n",
       "      <td>0</td>\n",
       "    </tr>\n",
       "    <tr>\n",
       "      <th>7</th>\n",
       "      <td>Torrance</td>\n",
       "      <td>0</td>\n",
       "      <td>18</td>\n",
       "      <td>10</td>\n",
       "      <td>0</td>\n",
       "    </tr>\n",
       "    <tr>\n",
       "      <th>8</th>\n",
       "      <td>Pasadena</td>\n",
       "      <td>5</td>\n",
       "      <td>16</td>\n",
       "      <td>11</td>\n",
       "      <td>0</td>\n",
       "    </tr>\n",
       "    <tr>\n",
       "      <th>9</th>\n",
       "      <td>Inglewood</td>\n",
       "      <td>0</td>\n",
       "      <td>20</td>\n",
       "      <td>5</td>\n",
       "      <td>1</td>\n",
       "    </tr>\n",
       "    <tr>\n",
       "      <th>14</th>\n",
       "      <td>Burbank</td>\n",
       "      <td>0</td>\n",
       "      <td>19</td>\n",
       "      <td>7</td>\n",
       "      <td>1</td>\n",
       "    </tr>\n",
       "    <tr>\n",
       "      <th>18</th>\n",
       "      <td>Alhambra</td>\n",
       "      <td>0</td>\n",
       "      <td>20</td>\n",
       "      <td>11</td>\n",
       "      <td>0</td>\n",
       "    </tr>\n",
       "  </tbody>\n",
       "</table>\n",
       "</div>"
      ],
      "text/plain": [
       "             City public_transportation park shopping_mall airport\n",
       "0     Los Angeles                     7   17            12       0\n",
       "1      Long Beach                     6   16             8       0\n",
       "2        Glendale                     0   19            11       0\n",
       "4        Palmdale                     0    9             2       0\n",
       "5   Santa Clarita                     0   15             9       0\n",
       "7        Torrance                     0   18            10       0\n",
       "8        Pasadena                     5   16            11       0\n",
       "9       Inglewood                     0   20             5       1\n",
       "14        Burbank                     0   19             7       1\n",
       "18       Alhambra                     0   20            11       0"
      ]
     },
     "execution_count": 129,
     "metadata": {},
     "output_type": "execute_result"
    }
   ],
   "source": [
    "#slicing for the cities that we are doing \n",
    "cities_dfb"
   ]
  },
  {
   "cell_type": "code",
   "execution_count": 130,
   "metadata": {
    "collapsed": true,
    "scrolled": true
   },
   "outputs": [],
   "source": [
    "##Unpivot data for Seaborn plots\n",
    "cities_dfc=pd.melt(cities_dfb, id_vars=['City'], value_vars=['public_transportation','park','shopping_mall','airport'])"
   ]
  },
  {
   "cell_type": "code",
   "execution_count": null,
   "metadata": {},
   "outputs": [],
   "source": [
    "#plotting groupped bar plot\n",
    "cities=cities_dfb[['City']]\n",
    "cities_dfc.head()"
   ]
  },
  {
   "cell_type": "code",
   "execution_count": 137,
   "metadata": {},
   "outputs": [
    {
     "data": {
      "image/png": "[encoded data removed]",
      "text/plain": [
       "<matplotlib.figure.Figure at 0x1a01b221c88>"
      ]
     },
     "metadata": {},
     "output_type": "display_data"
    }
   ],
   "source": [
    "#plotting groupped bar plot\n",
    "import matplotlib.pyplot as plt\n",
    "import seaborn as sns\n",
    "plt.figure(figsize=(20,10))\n",
    "sns.barplot(x='City', y='value', hue='variable', data=cities_dfc)\n",
    "plt.xticks(rotation=90)\n",
    "\n",
    "plt.ylabel('count of amenities')\n",
    "plt.title('Amenities in LA cities')\n",
    "plt.show()"
   ]
  },
  {
   "cell_type": "code",
   "execution_count": 134,
   "metadata": {
    "collapsed": true
   },
   "outputs": [],
   "source": [
    "#Saving the Figure\n",
    "plt.savefig('Amenities in LA cites.png')"
   ]
  }
 ],
 "metadata": {
  "kernelspec": {
   "display_name": "Python 3",
   "language": "python",
   "name": "python3"
  },
  "language_info": {
   "codemirror_mode": {
    "name": "ipython",
    "version": 3
   },
   "file_extension": ".py",
   "mimetype": "text/x-python",
   "name": "python",
   "nbconvert_exporter": "python",
   "pygments_lexer": "ipython3",
   "version": "3.6.1"
  }
 },
 "nbformat": 4,
 "nbformat_minor": 2
}
